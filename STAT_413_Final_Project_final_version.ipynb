{
 "cells": [
  {
   "cell_type": "markdown",
   "metadata": {
    "id": "lTkbgA8WBUHg"
   },
   "source": [
    "## **Introduction to Adaptive Boosting: Advantages & Disadvantages Compared to Popular Bagging Methods Like Random Forest**"
   ]
  },
  {
   "cell_type": "markdown",
   "metadata": {
    "id": "1VwwcA8O-1rc"
   },
   "source": [
    "## I. The Mathematical Background of Decision Tree, Boosting, And Bagging"
   ]
  },
  {
   "cell_type": "markdown",
   "metadata": {
    "id": "1OuMveR_7Jxq"
   },
   "source": [
    "### 1. Background\n",
    "\n",
    "\n",
    "Decision tree is a very popular machine learning method. It stratifies or segments the prediction space into simple regions, and predicts using a statistic of each region. Basic trees, such as a tree with only one level, do not learn the data very well. However, by combining decision trees with other techniques such as boosting and bootstraping, we can build advanced tree models that captures the true data.\n",
    "\n",
    "In this tutorial we will look at two widely-used tree models - Adaptive Boosting (Adaboost) and Random Forest. Both are ensembled methods, as both of them construct multiple simple trees and then aggregate them to yield better results. We are interested in seeing how the two models behave in different types of data.\n"
   ]
  },
  {
   "cell_type": "markdown",
   "metadata": {
    "id": "2VqcaItx7SIB"
   },
   "source": [
    "### 2. Decision Tree\n",
    "A decision tree can be easily understood figuratively, consider the toy dataset\n",
    "\\begin{array}{|c|c|}\n",
    "\\hline GPA & 413grade \\\\\\hline\n",
    "  3.8 & A \\\\\\hline\n",
    "  3.9 & A \\\\\\hline\n",
    "  3.4 & B \\\\\\hline\n",
    "  3.3 & B \\\\\\hline\n",
    "\\end{array}\n",
    "\n",
    "If we would like to fit a tree to predict a student's grade in Stat 413 given their GPA, our tree might look like\n",
    "\n",
    "<img src=\"https://drive.google.com/uc?id=1u-AcoF6d6o_3fKo1JC_rzmb8O3dlSd1X\">\n",
    "\n",
    "If a student's $GPA<3.5$, the tree will predict a B as the student's grade in stat413; if their $GPA\\geq 3.5$, the tree will predict an \"A\" as the grade. \n",
    "\n",
    "When we have more predictor variables, our tree can get very complicated, like this one here:\n",
    "<img src=\"https://drive.google.com/uc?id=1u0cw5r7xZQR11OH6cpZbXiFUkdoNJPyU\">\n",
    "\n",
    "We can make our a tree arbitrarily deep to reduce its bias. However, a deeper tree has more variance and is vulnerable to overfitting. \n",
    "\n",
    "A typical way to reduce variance is through averaging. Let $X_1, X_2, \\cdots, X_n \\overset{iid}{\\sim} (\\mu, \\sigma^2)$, and let $\\bar{X}$ be the mean of $X_1, X_2, \\cdots, X_n$ then \n",
    "\n",
    "\\begin{align}\n",
    "\\mathbb{E}(\\bar{X}) &= mu \\\\\n",
    "Var(\\bar{X}) &= Var\\left(\\frac{1}{n}\\sum_{i=1}^{n} X_i\\right) \\\\\n",
    "&=  \\frac{1}{n^2}\\sum_{i=1}^{n}Var(X_i)  && \\text{iid $X_i$}\\\\\n",
    "&=  \\frac{1}{n^2}n\\sigma\\\\\n",
    "&=  \\frac{\\sigma}{n}\\\\\n",
    "\\end{align}\n",
    "\n",
    "We see that $\\bar{X}$, the mean of a set trees, has smaller variance than any single tree itself. We will see how Adaboost and Random Forest both use this idea to improve upon decision trees."
   ]
  },
  {
   "cell_type": "markdown",
   "metadata": {
    "id": "pg2krZVk7aLC"
   },
   "source": [
    "### 3. Adaboost\n",
    "Adaboost constructs many shallow trees, usually stumps (one level trees), sequentially. Each tree fixes the residuals left by the previous tree. The final model is a weighted average of these trees based on their error rates.\n",
    "\n",
    "Assume we have n observations $Y=y_1\\cdots y_n$ and m variables $X^1\\cdots X^m$ . Adaboost starts by giving each sample the same sample weight, $w_1=w_2=\\cdots=w_n=\\frac{1}{n}$. Then it fits a stump that gives the lowest training erorr. Suppose this stump uses predictor $X^j$. Denote this stump as $G_j(X)$. The algorithm then calculates the weighted errors of $G_j(X)$:\n",
    "$$\n",
    "Err_j = \\frac{\\sum_{i=1}^{n}w_iI(G_j(x_i)\\neq y_i)}{\\sum_{i=1}^{n}w_i}\n",
    "$$ where $I(G_j(x_i)\\neq y_i)=1$ if $G_j(x_i)\\neq y_i$ and $0$ otherwise.\n",
    "\n",
    "The algorithm then caculates $\\alpha_j$, which is the weight of the tree $G_j(X)$ in the final model:\n",
    "$$\n",
    "\\alpha_j = \\log({\\frac{1-Err_j}{Err_j}})\n",
    "$$\n",
    "\n",
    "The algorithm then uses $\\alpha_j$ to update the sample weights $w_1\\cdots w_n$:\n",
    "$$\n",
    "w_i = w_i\\cdot exp(\\alpha_jI(G_j(x_i)\\neq y_i)),\\ 1\\leq i\\leq n\n",
    "$$\n",
    "\n",
    "The algorithm then repeat the above steps using other predictors $X^1\\cdots X^{j-1} X^{j+1}\\cdots X^m$.\n",
    "\n",
    "The final model is a weighted average of the stumps\n",
    "$$\n",
    "G(X) = \\sum_{j=1}^{m} \\alpha_j G_j(X)\n",
    "$$"
   ]
  },
  {
   "cell_type": "markdown",
   "metadata": {
    "id": "cbNIbhQ32C57"
   },
   "source": [
    "###  4. Random Forest\n",
    "\n",
    "In section I.2, we see that the variance of $\\bar{X}$ is smaller than the variance of $X$. We can extend this idea to trees but diving our data into $B$ $\\textbf{independent}$ subsets. We then fit a separate tree, $\\hat{f}^1(X), \\cdots, \\hat{f}^B(X)$, for each subset of the data, then take the average of these trees as final model output:\n",
    "\n",
    "\\begin{align}\n",
    "\\hat{f}_{avg} = \\frac{1}{B}\\sum_{b=1}^{B}\\hat{f}^b(X)\\\\\n",
    "\\end{align}\n",
    "\n",
    "As we saw previously, $Var(\\hat{f}_{avg}) = \\frac{1}{B} \\hat{f}^b(X)$, where $1\\leq b\\leq B$. \n",
    "\n",
    "However, in practice we typically don't have enough data to split into subsets. We use an approximation of the above schema by taking $B$ bootstrap samples, and training a separate tree, $\\hat{f}^{*1}(X), \\cdots, \\hat{f}^{*B}(X)$  on each bootstrap sample.\n",
    "Agin, we take the average of these trees to get the output of our model:\n",
    "\\begin{align}\n",
    "\\hat{f}^{*}_{avg} = \\frac{1}{B}\\sum_{b=1}^{B}\\hat{f}^{*b}(X)\\\\\n",
    "\\end{align}\n",
    "\n",
    "If the trees, $\\hat{f}^{*1}(X), \\cdots, \\hat{f}^{*B}(X)$ are independent, then the variance of our model is siginificantly reduced to $\\frac{1}{B}$ of the variance of a single tree. But if the trees are not independent, then we need to add their covariances to the variance of the mean, increasing the variance of our model. \n",
    "\n",
    "In practice, correlations among trees are very common. Imagain we have a dataset with $n$ variables, it is likey that $m<n$ variables are more significant than the rest. Thus most of the trees,  $\\hat{f}^{*1}(X), \\cdots, \\hat{f}^{*B}(X)$, will look very similar, as most of them will use the significant variables to grow the tree.  \n",
    "\n",
    "Random Forest tries to remove these correlations. If each tree, $\\hat{f}^{*1}(X), \\cdots, \\hat{f}^{*B}(X)$, uses a random subset of the variables, then it is less likey that all the trees are using the same set of strong variables, effectively reducing the correlations between the trees."
   ]
  },
  {
   "cell_type": "markdown",
   "metadata": {
    "id": "n_Iwxhq-m-UD"
   },
   "source": [
    "## II. Simulation Using Adaboost & Random Forest"
   ]
  },
  {
   "cell_type": "code",
   "execution_count": null,
   "metadata": {
    "id": "fhMuIJG7-iUc"
   },
   "outputs": [],
   "source": [
    "import pandas as pd\n",
    "import numpy as np\n",
    "import sklearn\n",
    "import matplotlib.pyplot as plt"
   ]
  },
  {
   "cell_type": "markdown",
   "metadata": {
    "id": "-tFMf1s7JAV0"
   },
   "source": [
    "In this section, we will show multiple examples of applying Adaboost and Random Forest on simulated data. Through the examples, you are able to see both the advantages and disadvantages of Adaboost, as well as the comparison between Adaboost and Random Forest so that it gives you a better idea on how and when you should use these boosting/bagging algorithms. "
   ]
  },
  {
   "cell_type": "markdown",
   "metadata": {
    "id": "i_RPqhbNlF9F"
   },
   "source": [
    "### 1. Adaboost Simulation"
   ]
  },
  {
   "cell_type": "markdown",
   "metadata": {
    "id": "SO4JNHX4iUHf"
   },
   "source": [
    "#### i. Simple Data with Some Noise"
   ]
  },
  {
   "cell_type": "markdown",
   "metadata": {
    "id": "fcs9k5EwiYUQ"
   },
   "source": [
    "Firstly, let's generate a very simple dataset with only **20 observations and 3 variables** using the make_classification function from the famous Python machine learning package called Scikit-learn. This function \"initially creates clusters of points normally distributed (std=1), introduces interdependence between these features, and adds various types of further noise to the data\" according to the Scikit-learn API. In this simulated dataset, all the variables/predictors are informative, and we add a parameter called \"flip_y\" that adds additional noise to the data by randomly assigning classes to parts of the observations. The first several rows of the data are shown below: "
   ]
  },
  {
   "cell_type": "code",
   "execution_count": null,
   "metadata": {
    "colab": {
     "base_uri": "https://localhost:8080/",
     "height": 206
    },
    "id": "JIrtgJHzIysz",
    "outputId": "2209e886-5c6c-46a0-9157-33a4968fda2a"
   },
   "outputs": [
    {
     "data": {
      "text/html": [
       "\n",
       "  <div id=\"df-7dcecca8-7903-4861-8005-2a3de53bf447\">\n",
       "    <div class=\"colab-df-container\">\n",
       "      <div>\n",
       "<style scoped>\n",
       "    .dataframe tbody tr th:only-of-type {\n",
       "        vertical-align: middle;\n",
       "    }\n",
       "\n",
       "    .dataframe tbody tr th {\n",
       "        vertical-align: top;\n",
       "    }\n",
       "\n",
       "    .dataframe thead th {\n",
       "        text-align: right;\n",
       "    }\n",
       "</style>\n",
       "<table border=\"1\" class=\"dataframe\">\n",
       "  <thead>\n",
       "    <tr style=\"text-align: right;\">\n",
       "      <th></th>\n",
       "      <th>Var 1</th>\n",
       "      <th>Var 2</th>\n",
       "      <th>Var 3</th>\n",
       "      <th>Label</th>\n",
       "    </tr>\n",
       "  </thead>\n",
       "  <tbody>\n",
       "    <tr>\n",
       "      <th>0</th>\n",
       "      <td>-2.222209</td>\n",
       "      <td>1.700067</td>\n",
       "      <td>0.701864</td>\n",
       "      <td>1</td>\n",
       "    </tr>\n",
       "    <tr>\n",
       "      <th>1</th>\n",
       "      <td>-1.289893</td>\n",
       "      <td>0.483748</td>\n",
       "      <td>-0.540642</td>\n",
       "      <td>0</td>\n",
       "    </tr>\n",
       "    <tr>\n",
       "      <th>2</th>\n",
       "      <td>-1.991909</td>\n",
       "      <td>-0.091283</td>\n",
       "      <td>0.554954</td>\n",
       "      <td>1</td>\n",
       "    </tr>\n",
       "    <tr>\n",
       "      <th>3</th>\n",
       "      <td>-0.215751</td>\n",
       "      <td>1.629769</td>\n",
       "      <td>-0.361200</td>\n",
       "      <td>1</td>\n",
       "    </tr>\n",
       "    <tr>\n",
       "      <th>4</th>\n",
       "      <td>1.430633</td>\n",
       "      <td>1.484343</td>\n",
       "      <td>0.347305</td>\n",
       "      <td>0</td>\n",
       "    </tr>\n",
       "  </tbody>\n",
       "</table>\n",
       "</div>\n",
       "      <button class=\"colab-df-convert\" onclick=\"convertToInteractive('df-7dcecca8-7903-4861-8005-2a3de53bf447')\"\n",
       "              title=\"Convert this dataframe to an interactive table.\"\n",
       "              style=\"display:none;\">\n",
       "        \n",
       "  <svg xmlns=\"http://www.w3.org/2000/svg\" height=\"24px\"viewBox=\"0 0 24 24\"\n",
       "       width=\"24px\">\n",
       "    <path d=\"M0 0h24v24H0V0z\" fill=\"none\"/>\n",
       "    <path d=\"M18.56 5.44l.94 2.06.94-2.06 2.06-.94-2.06-.94-.94-2.06-.94 2.06-2.06.94zm-11 1L8.5 8.5l.94-2.06 2.06-.94-2.06-.94L8.5 2.5l-.94 2.06-2.06.94zm10 10l.94 2.06.94-2.06 2.06-.94-2.06-.94-.94-2.06-.94 2.06-2.06.94z\"/><path d=\"M17.41 7.96l-1.37-1.37c-.4-.4-.92-.59-1.43-.59-.52 0-1.04.2-1.43.59L10.3 9.45l-7.72 7.72c-.78.78-.78 2.05 0 2.83L4 21.41c.39.39.9.59 1.41.59.51 0 1.02-.2 1.41-.59l7.78-7.78 2.81-2.81c.8-.78.8-2.07 0-2.86zM5.41 20L4 18.59l7.72-7.72 1.47 1.35L5.41 20z\"/>\n",
       "  </svg>\n",
       "      </button>\n",
       "      \n",
       "  <style>\n",
       "    .colab-df-container {\n",
       "      display:flex;\n",
       "      flex-wrap:wrap;\n",
       "      gap: 12px;\n",
       "    }\n",
       "\n",
       "    .colab-df-convert {\n",
       "      background-color: #E8F0FE;\n",
       "      border: none;\n",
       "      border-radius: 50%;\n",
       "      cursor: pointer;\n",
       "      display: none;\n",
       "      fill: #1967D2;\n",
       "      height: 32px;\n",
       "      padding: 0 0 0 0;\n",
       "      width: 32px;\n",
       "    }\n",
       "\n",
       "    .colab-df-convert:hover {\n",
       "      background-color: #E2EBFA;\n",
       "      box-shadow: 0px 1px 2px rgba(60, 64, 67, 0.3), 0px 1px 3px 1px rgba(60, 64, 67, 0.15);\n",
       "      fill: #174EA6;\n",
       "    }\n",
       "\n",
       "    [theme=dark] .colab-df-convert {\n",
       "      background-color: #3B4455;\n",
       "      fill: #D2E3FC;\n",
       "    }\n",
       "\n",
       "    [theme=dark] .colab-df-convert:hover {\n",
       "      background-color: #434B5C;\n",
       "      box-shadow: 0px 1px 3px 1px rgba(0, 0, 0, 0.15);\n",
       "      filter: drop-shadow(0px 1px 2px rgba(0, 0, 0, 0.3));\n",
       "      fill: #FFFFFF;\n",
       "    }\n",
       "  </style>\n",
       "\n",
       "      <script>\n",
       "        const buttonEl =\n",
       "          document.querySelector('#df-7dcecca8-7903-4861-8005-2a3de53bf447 button.colab-df-convert');\n",
       "        buttonEl.style.display =\n",
       "          google.colab.kernel.accessAllowed ? 'block' : 'none';\n",
       "\n",
       "        async function convertToInteractive(key) {\n",
       "          const element = document.querySelector('#df-7dcecca8-7903-4861-8005-2a3de53bf447');\n",
       "          const dataTable =\n",
       "            await google.colab.kernel.invokeFunction('convertToInteractive',\n",
       "                                                     [key], {});\n",
       "          if (!dataTable) return;\n",
       "\n",
       "          const docLinkHtml = 'Like what you see? Visit the ' +\n",
       "            '<a target=\"_blank\" href=https://colab.research.google.com/notebooks/data_table.ipynb>data table notebook</a>'\n",
       "            + ' to learn more about interactive tables.';\n",
       "          element.innerHTML = '';\n",
       "          dataTable['output_type'] = 'display_data';\n",
       "          await google.colab.output.renderOutput(dataTable, element);\n",
       "          const docLink = document.createElement('div');\n",
       "          docLink.innerHTML = docLinkHtml;\n",
       "          element.appendChild(docLink);\n",
       "        }\n",
       "      </script>\n",
       "    </div>\n",
       "  </div>\n",
       "  "
      ],
      "text/plain": [
       "      Var 1     Var 2     Var 3  Label\n",
       "0 -2.222209  1.700067  0.701864      1\n",
       "1 -1.289893  0.483748 -0.540642      0\n",
       "2 -1.991909 -0.091283  0.554954      1\n",
       "3 -0.215751  1.629769 -0.361200      1\n",
       "4  1.430633  1.484343  0.347305      0"
      ]
     },
     "execution_count": 2,
     "metadata": {},
     "output_type": "execute_result"
    }
   ],
   "source": [
    "from sklearn.datasets import make_classification\n",
    "\n",
    "X, y = make_classification(n_samples = 20,    # 20 observations\n",
    "               n_features = 3,    # 3 variables/predictors\n",
    "               n_informative = 3, \n",
    "               n_redundant = 0, \n",
    "               random_state = 1, \n",
    "               flip_y = 0.2)     # 20% of the observations will be assigned to the 2 classes randomly\n",
    "\n",
    "\n",
    "\n",
    "df = pd.DataFrame(X, columns = ['Var 1', 'Var 2', 'Var 3'])\n",
    "\n",
    "df[\"Label\"] = y\n",
    "\n",
    "df.head()"
   ]
  },
  {
   "cell_type": "markdown",
   "metadata": {
    "id": "RmPqzAweE9m1"
   },
   "source": [
    "Now, we will plot the 20 observations. Let's pick 2 of the 3 predictors each time and see if it is very easy to separate the two classes."
   ]
  },
  {
   "cell_type": "code",
   "execution_count": null,
   "metadata": {
    "colab": {
     "base_uri": "https://localhost:8080/",
     "height": 265
    },
    "id": "gOcQZLJabCZc",
    "outputId": "9167bb66-0cbe-4e04-87c4-a94ebb14d7b4"
   },
   "outputs": [
    {
     "data": {
      "image/png": "[encoded data removed]",
      "text/plain": [
       "<Figure size 432x288 with 1 Axes>"
      ]
     },
     "metadata": {
      "needs_background": "light"
     },
     "output_type": "display_data"
    }
   ],
   "source": [
    "plot1 = plt.scatter(df['Var 1'], df['Var 2'], c = df['Label'])\n",
    "\n",
    "plt.legend(handles = plot1.legend_elements()[0], \n",
    "           title = \"Class\",\n",
    "           labels = ['0', '1'])\n",
    "\n",
    "plt.show()"
   ]
  },
  {
   "cell_type": "code",
   "execution_count": null,
   "metadata": {
    "colab": {
     "base_uri": "https://localhost:8080/",
     "height": 265
    },
    "id": "h8skiI_PDTey",
    "outputId": "53d93f1d-d3d7-443c-d069-7f4706c48348"
   },
   "outputs": [
    {
     "data": {
      "image/png": "[encoded data removed]",
      "text/plain": [
       "<Figure size 432x288 with 1 Axes>"
      ]
     },
     "metadata": {
      "needs_background": "light"
     },
     "output_type": "display_data"
    }
   ],
   "source": [
    "plot2 = plt.scatter(df['Var 1'], df['Var 3'], c = df['Label'])\n",
    "\n",
    "plt.legend(handles = plot2.legend_elements()[0], \n",
    "           title = \"Class\",\n",
    "           labels = ['0', '1'])\n",
    "\n",
    "plt.show()"
   ]
  },
  {
   "cell_type": "code",
   "execution_count": null,
   "metadata": {
    "colab": {
     "base_uri": "https://localhost:8080/",
     "height": 265
    },
    "id": "ogt_nIunDYNh",
    "outputId": "55d795c3-e5bd-4330-a6ec-0a409685bac7"
   },
   "outputs": [
    {
     "data": {
      "image/png": "[encoded data removed]",
      "text/plain": [
       "<Figure size 432x288 with 1 Axes>"
      ]
     },
     "metadata": {
      "needs_background": "light"
     },
     "output_type": "display_data"
    }
   ],
   "source": [
    "plot3 = plt.scatter(df['Var 2'], df['Var 3'], c = df['Label'])\n",
    "\n",
    "plt.legend(handles = plot3.legend_elements()[0], \n",
    "           title = \"Class\",\n",
    "           labels = ['0', '1'])\n",
    "\n",
    "plt.show()"
   ]
  },
  {
   "cell_type": "markdown",
   "metadata": {
    "id": "JB6Et6qeNXP1"
   },
   "source": [
    "As you can see from the plots, it is not easy to draw a decision tree with only one or two stumps in order to correctly classify all the observations because of the random noise in the data. Let's first try to use Decision Tree to fit a model using default parameters; then, we will use the **AdaBoostClassifier** module from scikit-learn again to fit an Adaboost model on this simulated data. According to the Director of Machine Learning of Wikimedia Foundation, Chris Albon, the three most important parameters for Adaboost are **base_estimator, n_estimators, and learning_rate**. \n",
    "\n",
    "<br>\n",
    "\n",
    "Here, **\"base_estimator\"** is the weak learner we want to use when we train the model. The default weak learner is a Decision Tree, which is the most commonly used learner in Adaboost. As we are going to compare the performances between Adaboost and Random Forest later in the section, we will continue using the default value called DecisionTreeClassifier. \n",
    "\n",
    "<br>\n",
    "\n",
    "**\"n_estimators\"** is probably the most important parameter, and can be tuned using different values. It is essentially the number of Decision Tree models we want to train iteratively. As the trees are growing successively, Adaboost will upweight the incorrectly classified data in the previous round and downweight the others for each iteration.\n",
    "\n",
    "<br>\n",
    "\n",
    "**\"learning_rate\"** is the \"contribution\" of each weak learner to the weights, according to Albon. It is set to 1 as the default value, but we can reduce the learning rate to increase the training time and potentially yield better performances in return. \n",
    "\n",
    "<br>\n",
    "\n",
    "Now, let's fit the models on the simulated dataset and compare. Let's randomly split the data into training set and test set, where the training set has 80% of the original data (16 observations, in this case), and the test set has the rest of 20%.    "
   ]
  },
  {
   "cell_type": "code",
   "execution_count": null,
   "metadata": {
    "id": "-7YMiLtHeVFC"
   },
   "outputs": [],
   "source": [
    "predictor = df[['Var 1', 'Var 2', 'Var 3']]\n",
    "\n",
    "response = df['Label']"
   ]
  },
  {
   "cell_type": "code",
   "execution_count": null,
   "metadata": {
    "id": "9UYm5YLpMBZj"
   },
   "outputs": [],
   "source": [
    "from sklearn.model_selection import train_test_split\n",
    "\n",
    "train_x, test_x, train_y, test_y = train_test_split(predictor, response, train_size = 0.8, random_state = 1, stratify = y)"
   ]
  },
  {
   "cell_type": "markdown",
   "metadata": {
    "id": "isp5fCxxhaLp"
   },
   "source": [
    "By setting **stratify = y**, we ensure that the distributions of the two classes are the same in our training set and test set. Now, let's fit a Decision Tree model using default parameters and an Adaboost model on the training set, then evaluate the model performances on the test set:   "
   ]
  },
  {
   "cell_type": "code",
   "execution_count": null,
   "metadata": {
    "colab": {
     "base_uri": "https://localhost:8080/"
    },
    "id": "wag7_RdvI4gO",
    "outputId": "6b7633d3-72db-486a-a7b2-27e5c53bdf2e"
   },
   "outputs": [
    {
     "data": {
      "text/plain": [
       "1.0"
      ]
     },
     "execution_count": 8,
     "metadata": {},
     "output_type": "execute_result"
    }
   ],
   "source": [
    "from sklearn.tree import DecisionTreeClassifier\n",
    "\n",
    "dt_model = DecisionTreeClassifier()\n",
    "\n",
    "dt_model.fit(train_x, train_y)\n",
    "\n",
    "dt_model.score(train_x, train_y)"
   ]
  },
  {
   "cell_type": "code",
   "execution_count": null,
   "metadata": {
    "colab": {
     "base_uri": "https://localhost:8080/"
    },
    "id": "jBfkCQI0gQSL",
    "outputId": "99f7d696-fe51-4a39-e03d-154ac0c379f8"
   },
   "outputs": [
    {
     "data": {
      "text/plain": [
       "1.0"
      ]
     },
     "execution_count": 9,
     "metadata": {},
     "output_type": "execute_result"
    }
   ],
   "source": [
    "dt_model.score(test_x, test_y)"
   ]
  },
  {
   "cell_type": "code",
   "execution_count": null,
   "metadata": {
    "colab": {
     "base_uri": "https://localhost:8080/"
    },
    "id": "Bl6H1AecdIIq",
    "outputId": "4ccca2b6-897a-492f-94ab-87427df0467b"
   },
   "outputs": [
    {
     "data": {
      "text/plain": [
       "1.0"
      ]
     },
     "execution_count": 10,
     "metadata": {},
     "output_type": "execute_result"
    }
   ],
   "source": [
    "from sklearn.ensemble import AdaBoostClassifier\n",
    "\n",
    "adaboost_model = AdaBoostClassifier(n_estimators = 5, learning_rate = 1)\n",
    "\n",
    "adaboost_model.fit(train_x, train_y)\n",
    "\n",
    "adaboost_model.score(train_x, train_y)"
   ]
  },
  {
   "cell_type": "code",
   "execution_count": null,
   "metadata": {
    "colab": {
     "base_uri": "https://localhost:8080/"
    },
    "id": "SH5aR2SDgTYe",
    "outputId": "b5bef140-9af1-4316-c07c-0296b7357e5d"
   },
   "outputs": [
    {
     "data": {
      "text/plain": [
       "1.0"
      ]
     },
     "execution_count": 11,
     "metadata": {},
     "output_type": "execute_result"
    }
   ],
   "source": [
    "adaboost_model.score(test_x, test_y)"
   ]
  },
  {
   "cell_type": "markdown",
   "metadata": {
    "id": "eVXyRs-X2FdF"
   },
   "source": [
    "From the results above, we can see that even a weak learner like the default Decision Tree model can have a great performance on simple data (although with some noise) since the accuracy score is 1.0, meaning that it correctly predicts all the classes of the observations in the test set. Here we use n_estimator = 5 in the Adaboost model (so that it fits 5 trees each with 1 stump and makes final prediction based on the weighted value of these trees), and it is more than enough to reach the 100% accuracy score.\n",
    "\n",
    "<br>\n",
    "\n",
    "Hence, it looks like Adaboost is not necessary in very simple and small datasets. But what about large datasets? Let's first examine its performance on large dataset with noise and dataset with many outliers."
   ]
  },
  {
   "cell_type": "markdown",
   "metadata": {
    "id": "tGSbxYkcihFM"
   },
   "source": [
    "#### ii. Large Dataset with Noise"
   ]
  },
  {
   "cell_type": "markdown",
   "metadata": {
    "id": "_s6memgvBNOu"
   },
   "source": [
    "Let's use a larger dataset for simulation: we will still use the make_classification function from Scikit-learn, but this time we will draw 1000 random samples with 20 informative predictors and the same amount of noise, where 20% of the observations will be assigned to one of the two classes randomly. As we did in the last simulation, we will split 80% of the data into training set, and the rest of them into test set. "
   ]
  },
  {
   "cell_type": "code",
   "execution_count": null,
   "metadata": {
    "id": "kh9DGSMHjNQG"
   },
   "outputs": [],
   "source": [
    "from sklearn.datasets import make_classification\n",
    "\n",
    "X, y = make_classification(n_samples = 1000,    # 1000 observations\n",
    "               n_features = 20,    # 20 variables/predictors\n",
    "               n_informative = 20, \n",
    "               n_redundant = 0,\n",
    "               random_state = 1, \n",
    "               flip_y = 0.2)     # 20% of the observations will be assigned to the 2 classes randomly\n"
   ]
  },
  {
   "cell_type": "markdown",
   "metadata": {
    "id": "L16AgaYyfzW9"
   },
   "source": [
    "We will still use the default Decision Tree model for comparison. The **random_state** parameter is only used for controlling the randomness, so that we will not get different trees each time we fit the data."
   ]
  },
  {
   "cell_type": "code",
   "execution_count": null,
   "metadata": {
    "colab": {
     "base_uri": "https://localhost:8080/"
    },
    "id": "QYMPipjwjb9h",
    "outputId": "d81c09da-ad91-431a-b18c-f82eeffd2e65"
   },
   "outputs": [
    {
     "data": {
      "text/plain": [
       "1.0"
      ]
     },
     "execution_count": 27,
     "metadata": {},
     "output_type": "execute_result"
    }
   ],
   "source": [
    "from sklearn.tree import DecisionTreeClassifier\n",
    "from sklearn.model_selection import train_test_split\n",
    "\n",
    "train_x, test_x, train_y, test_y = train_test_split(X, y, train_size = 0.8, random_state = 1, stratify = y)\n",
    "\n",
    "dt_model = DecisionTreeClassifier(random_state = 1)\n",
    "\n",
    "dt_model.fit(train_x, train_y)\n",
    "\n",
    "dt_model.score(train_x, train_y)"
   ]
  },
  {
   "cell_type": "code",
   "execution_count": null,
   "metadata": {
    "colab": {
     "base_uri": "https://localhost:8080/"
    },
    "id": "anBAb4IZjg_U",
    "outputId": "46b75407-afc9-4393-bc59-81eefee57c57"
   },
   "outputs": [
    {
     "data": {
      "text/plain": [
       "0.68"
      ]
     },
     "execution_count": 28,
     "metadata": {},
     "output_type": "execute_result"
    }
   ],
   "source": [
    "dt_model.score(test_x, test_y)"
   ]
  },
  {
   "cell_type": "markdown",
   "metadata": {
    "id": "Cwk8R33rgVcI"
   },
   "source": [
    "As the results shown above, the default Decision Tree model severely overfits the data because it fits perfectly on the training set (with an accuracy score of 100%), but has only **68% accuracy** when predicting the classes of the observations in the test set, which is only slightly better than random guesses. Hence, we need to use either boosting or bagging to improve the performances of such weak learners.\n",
    "\n",
    "<br>\n",
    "\n",
    "Let's first look at the performance of Adaboost when **n_estimators = 5**:"
   ]
  },
  {
   "cell_type": "code",
   "execution_count": null,
   "metadata": {
    "colab": {
     "base_uri": "https://localhost:8080/"
    },
    "id": "3hGRBO0gjkPH",
    "outputId": "8a8bccb0-b4b2-43a8-ec8a-f00f90055f89"
   },
   "outputs": [
    {
     "data": {
      "text/plain": [
       "0.68875"
      ]
     },
     "execution_count": 47,
     "metadata": {},
     "output_type": "execute_result"
    }
   ],
   "source": [
    "from sklearn.ensemble import AdaBoostClassifier\n",
    "\n",
    "adaboost_model = AdaBoostClassifier(n_estimators = 5, learning_rate = 1)\n",
    "\n",
    "adaboost_model.fit(train_x, train_y)\n",
    "\n",
    "adaboost_model.score(train_x, train_y)"
   ]
  },
  {
   "cell_type": "code",
   "execution_count": null,
   "metadata": {
    "colab": {
     "base_uri": "https://localhost:8080/"
    },
    "id": "pHbl2yepjnoU",
    "outputId": "2ec39a97-2867-4c05-c96b-66e91c30fc5f"
   },
   "outputs": [
    {
     "data": {
      "text/plain": [
       "0.64"
      ]
     },
     "execution_count": 48,
     "metadata": {},
     "output_type": "execute_result"
    }
   ],
   "source": [
    "adaboost_model.score(test_x, test_y)"
   ]
  },
  {
   "cell_type": "markdown",
   "metadata": {
    "id": "smxHBGawjeXK"
   },
   "source": [
    "Both the training accuracy and the test accuracy are not ideal - for large datasets, using only 5 weighted weak learners is certainly not enough. Now let's try **n_estimator = 50**:"
   ]
  },
  {
   "cell_type": "code",
   "execution_count": null,
   "metadata": {
    "colab": {
     "base_uri": "https://localhost:8080/"
    },
    "id": "1OEcLXO2y_4_",
    "outputId": "75203a1d-d769-442e-8a22-54c22780b989"
   },
   "outputs": [
    {
     "data": {
      "text/plain": [
       "0.84125"
      ]
     },
     "execution_count": 51,
     "metadata": {},
     "output_type": "execute_result"
    }
   ],
   "source": [
    "from sklearn.ensemble import AdaBoostClassifier\n",
    "\n",
    "adaboost_model = AdaBoostClassifier(n_estimators = 50, learning_rate = 1)\n",
    "\n",
    "adaboost_model.fit(train_x, train_y)\n",
    "\n",
    "adaboost_model.score(train_x, train_y)"
   ]
  },
  {
   "cell_type": "code",
   "execution_count": null,
   "metadata": {
    "colab": {
     "base_uri": "https://localhost:8080/"
    },
    "id": "CTzmbxVZiMXM",
    "outputId": "fdfdd66c-8f3d-4285-85ae-906f8ffe1c15"
   },
   "outputs": [
    {
     "data": {
      "text/plain": [
       "0.695"
      ]
     },
     "execution_count": 52,
     "metadata": {},
     "output_type": "execute_result"
    }
   ],
   "source": [
    "adaboost_model.score(test_x, test_y)"
   ]
  },
  {
   "cell_type": "markdown",
   "metadata": {
    "id": "YKtU2Vnnj7Em"
   },
   "source": [
    "Both accuracy scores slightly increase, but the test accuracy is only 1.5% higher than our baseline (the default Decision Tree classifier). What about lowering the learning rate?"
   ]
  },
  {
   "cell_type": "code",
   "execution_count": null,
   "metadata": {
    "colab": {
     "base_uri": "https://localhost:8080/"
    },
    "id": "aq0yd23Zmq8a",
    "outputId": "815b4dce-7df9-43ab-e3dc-9ca653edf986"
   },
   "outputs": [
    {
     "data": {
      "text/plain": [
       "0.83875"
      ]
     },
     "execution_count": 59,
     "metadata": {},
     "output_type": "execute_result"
    }
   ],
   "source": [
    "from sklearn.ensemble import AdaBoostClassifier\n",
    "\n",
    "adaboost_model = AdaBoostClassifier(n_estimators = 50, learning_rate = 0.75)\n",
    "\n",
    "adaboost_model.fit(train_x, train_y)\n",
    "\n",
    "adaboost_model.score(train_x, train_y)"
   ]
  },
  {
   "cell_type": "code",
   "execution_count": null,
   "metadata": {
    "colab": {
     "base_uri": "https://localhost:8080/"
    },
    "id": "H8RKXw_EmtN6",
    "outputId": "e6b0e751-c340-48ff-f649-acc94769b174"
   },
   "outputs": [
    {
     "data": {
      "text/plain": [
       "0.68"
      ]
     },
     "execution_count": 60,
     "metadata": {},
     "output_type": "execute_result"
    }
   ],
   "source": [
    "adaboost_model.score(test_x, test_y)"
   ]
  },
  {
   "cell_type": "markdown",
   "metadata": {
    "id": "4Ydfisf_m_FW"
   },
   "source": [
    "The results are even worse. We can see that Adaboost probably **cannot handle noisy data well**.\n",
    "\n",
    "<br>\n",
    "\n",
    "**YOUR TURN!** \n",
    "\n",
    "<br>\n",
    "\n",
    "Can you fit the data with a better Adaboost model by tuning the two parameters?"
   ]
  },
  {
   "cell_type": "code",
   "execution_count": null,
   "metadata": {
    "id": "lkARfNh1ndWg"
   },
   "outputs": [],
   "source": [
    "from sklearn.ensemble import AdaBoostClassifier\n",
    "\n",
    "def adaboost_tuning (number_of_weighted_classifiers, learning_rate):\n",
    "  \n",
    "  adaboost_model = AdaBoostClassifier(n_estimators = number_of_weighted_classifiers, learning_rate = learning_rate)\n",
    "\n",
    "  adaboost_model.fit(train_x, train_y)\n",
    "\n",
    "  return print(\"Test Accuracy: \", adaboost_model.score(test_x, test_y))"
   ]
  },
  {
   "cell_type": "code",
   "execution_count": null,
   "metadata": {
    "id": "kvPkLR1MoQZb"
   },
   "outputs": [],
   "source": [
    "### Enter the number of weighted classifiers and the learning rate (between 0 to 1) that you want to try:\n",
    "\n",
    "adaboost_tuning() # Enter the two parameters here; for example, adaboost_tuning(200, 0.8)"
   ]
  },
  {
   "cell_type": "markdown",
   "metadata": {
    "id": "g7Hvs1AolLC4"
   },
   "source": [
    "#### iii. Data with Outliers"
   ]
  },
  {
   "cell_type": "markdown",
   "metadata": {
    "id": "3t09TIMDAvRj"
   },
   "source": [
    "If you have tried tuning the Adaboost model using different parameters in the last section, you probably have seen that Adaboost could not handle noisy data well even with hypertuning. Unfortunately, this happens a lot in the real world - for example, cats and dogs share a lot of similar features such as size, color, etc, therefore it is hard to classify these two species purely based on those numerical/categorical predictors. \n",
    "\n",
    "<br>\n",
    "\n",
    "Another type of data that also appears a lot in real-world data is outliers. Outliers are those data points that are significantly different than others. Theoretically, Adaboost may not have great performances on datasets with a lot of outliers, largely due to the fact that during every iteration process of Adaboost, the model will upweight the outliers and try to fit a \"better\" model that can correctly predict those values. As a result, these outliers can affect the accuracy of the model when fitting the normal data points. Let's again use simulation to examine if this is true or not."
   ]
  },
  {
   "cell_type": "code",
   "execution_count": null,
   "metadata": {
    "colab": {
     "base_uri": "https://localhost:8080/"
    },
    "id": "t4kuCYORED79",
    "outputId": "345ca9f0-44b8-4f31-d7c1-0b321fdc70b9"
   },
   "outputs": [
    {
     "data": {
      "text/plain": [
       "array([[-0.66575452,  0.82502982, -1.67419581],\n",
       "       [ 0.08646441, -0.83016886, -2.14246673],\n",
       "       [-1.07296862, -2.3015387 ,  0.86540763],\n",
       "       [ 1.90465871,  0.6590498 ,  1.1110567 ],\n",
       "       [-0.11877117,  1.86647138, -0.19899818]])"
      ]
     },
     "execution_count": 176,
     "metadata": {},
     "output_type": "execute_result"
    }
   ],
   "source": [
    "from sklearn.datasets import make_regression\n",
    "\n",
    "X, y = make_regression(n_samples = 200,    # 200 observations\n",
    "             n_features = 3,    # 3 variables/predictors\n",
    "             n_informative = 3, \n",
    "             random_state = 1)     \n",
    "\n",
    "X[0:5] # The first five observations"
   ]
  },
  {
   "cell_type": "markdown",
   "metadata": {
    "id": "fT4owZ5HFLa1"
   },
   "source": [
    "We will generate a smaller dataset for illustration purpose - only 200 observations and 3 predictors. This time we use the **make_regression** function to generate a regression problem. Now, let's add some outliers to this dataset. All the predictors for the 200 observations are, similar to the last two parts, normally distributed with mean = 0 and standard deviation = 1. We want to add some data points that are either very large or very small to represent the outliers. Here we use the **random** module in Python to draw random outliers. "
   ]
  },
  {
   "cell_type": "code",
   "execution_count": null,
   "metadata": {
    "id": "TpgVj5OsFK-H"
   },
   "outputs": [],
   "source": [
    "import random\n",
    "\n",
    "random.seed(1)\n",
    "\n",
    "outliers = []\n",
    "\n",
    "## Draw 20 outliers with their classes\n",
    "\n",
    "for i in range(20):\n",
    "\n",
    "  outliers.append (random.sample(range(-10, 10), 3))\n",
    "\n",
    "outlier_classes = []\n",
    "\n",
    "for i in range(20):\n",
    "\n",
    "  outlier_classes.append(random.sample(range(-200, 200), 1)[0])\n",
    "\n",
    "\n",
    "X = np.insert(X, 0, outliers, axis = 0)\n",
    "y = np.insert(y, 0, outlier_classes)"
   ]
  },
  {
   "cell_type": "markdown",
   "metadata": {
    "id": "duI9IZs-G9oO"
   },
   "source": [
    "We have now successfully added the outliers to our simulated data. Let's see how Adaboost performs compared to the default Decision Tree regressor by trying several different values for the parameter **n_estimators**. We will use MSE (mean squared error) as our metric of evaluation."
   ]
  },
  {
   "cell_type": "code",
   "execution_count": null,
   "metadata": {
    "colab": {
     "base_uri": "https://localhost:8080/"
    },
    "id": "S4uiuAw9G9O-",
    "outputId": "2803778d-f645-4d6a-b5c9-35a03b8f016b"
   },
   "outputs": [
    {
     "data": {
      "text/plain": [
       "3378.380479815145"
      ]
     },
     "execution_count": 184,
     "metadata": {},
     "output_type": "execute_result"
    }
   ],
   "source": [
    "from sklearn.tree import DecisionTreeRegressor\n",
    "from sklearn.model_selection import train_test_split\n",
    "from sklearn.metrics import mean_squared_error\n",
    "\n",
    "train_x, test_x, train_y, test_y = train_test_split(X, y, train_size = 0.8, random_state = 1)\n",
    "\n",
    "dt_model = DecisionTreeRegressor(random_state = 1)\n",
    "\n",
    "dt_model.fit(train_x, train_y)\n",
    "\n",
    "dt_pred_y = dt_model.predict(test_x)\n",
    "\n",
    "dt_mse = mean_squared_error(test_y, dt_pred_y)\n",
    "\n",
    "dt_mse"
   ]
  },
  {
   "cell_type": "code",
   "execution_count": null,
   "metadata": {
    "colab": {
     "base_uri": "https://localhost:8080/"
    },
    "id": "iZkNO9M8TYQI",
    "outputId": "cefb4ace-f654-48fc-f709-000c4a2fb113"
   },
   "outputs": [
    {
     "name": "stdout",
     "output_type": "stream",
     "text": [
      "Number of trees:  5\n",
      "Test MSE:  3349.373244449431\n",
      "Number of trees:  25\n",
      "Test MSE:  4059.7647759253446\n",
      "Number of trees:  50\n",
      "Test MSE:  3588.823890576005\n",
      "Number of trees:  100\n",
      "Test MSE:  3665.499963346578\n"
     ]
    }
   ],
   "source": [
    "from sklearn.ensemble import AdaBoostRegressor\n",
    "\n",
    "num_of_trees = [5, 25, 50, 100]\n",
    "\n",
    "for i in range(len(num_of_trees)):\n",
    "\n",
    "  n_estimator = num_of_trees[i]\n",
    "\n",
    "  adaboost_model = AdaBoostRegressor(n_estimators = n_estimator, learning_rate = 1)\n",
    "\n",
    "  adaboost_model.fit(train_x, train_y)\n",
    "\n",
    "  adaboost_pred_y = adaboost_model.predict(test_x)\n",
    "\n",
    "  adaboost_mse = mean_squared_error(test_y, adaboost_pred_y)\n",
    "\n",
    "  print(\"Number of trees: \", n_estimator)\n",
    "\n",
    "  print (\"Test MSE: \", adaboost_mse)"
   ]
  },
  {
   "cell_type": "markdown",
   "metadata": {
    "id": "Pz43-aEefTHD"
   },
   "source": [
    "As expected, the Adaboost model does not do a great job on predicting the response variable when we added a lot of outliers into the dataset. Most of the mean squared errors of different parameters are higher than our baseline - the default Decision Tree regressor. Only when the number of iterations is very small (n_estimators = 5 in the above example), Adaboost would not overfit; yet, the final result is still not far better than the baseline."
   ]
  },
  {
   "cell_type": "markdown",
   "metadata": {
    "id": "W04AN9_xkTAE"
   },
   "source": [
    "#### iv. Data without Noise/Outliers"
   ]
  },
  {
   "cell_type": "markdown",
   "metadata": {
    "id": "LaS-o578lkWn"
   },
   "source": [
    "So far, we have seen the limitations of Adaboost, as it cannot yield much better results than simple Decision Tree models when the data has noise or outliers. So the question becomes: what is the advantage of Adaboost?\n",
    "\n",
    "<br>\n",
    "\n",
    "Let's now examine its performance on a very clean dataset, with 1000 observations, 20 predictors (all informative), 2 classes, and without any noise or outliers. Will Adaboost do better than Decision Tree?  "
   ]
  },
  {
   "cell_type": "code",
   "execution_count": null,
   "metadata": {
    "id": "l8zIxa3vll70"
   },
   "outputs": [],
   "source": [
    "from sklearn.datasets import make_classification\n",
    "\n",
    "X, y = make_classification(n_samples = 1000,    # 1000 observations\n",
    "               n_features = 20,    # 20 variables/predictors\n",
    "               n_informative = 20, \n",
    "               n_redundant = 0,\n",
    "               random_state = 1)   "
   ]
  },
  {
   "cell_type": "code",
   "execution_count": null,
   "metadata": {
    "colab": {
     "base_uri": "https://localhost:8080/"
    },
    "id": "ZQgY2e9el5Lq",
    "outputId": "f0620412-c7ee-4deb-aebf-6014e6a4ff6d"
   },
   "outputs": [
    {
     "data": {
      "text/plain": [
       "1.0"
      ]
     },
     "execution_count": 3,
     "metadata": {},
     "output_type": "execute_result"
    }
   ],
   "source": [
    "from sklearn.tree import DecisionTreeClassifier\n",
    "from sklearn.model_selection import train_test_split\n",
    "\n",
    "train_x, test_x, train_y, test_y = train_test_split(X, y, train_size = 0.8, random_state = 1, stratify = y)\n",
    "\n",
    "dt_model = DecisionTreeClassifier(random_state = 1)\n",
    "\n",
    "dt_model.fit(train_x, train_y)\n",
    "\n",
    "dt_model.score(train_x, train_y)"
   ]
  },
  {
   "cell_type": "code",
   "execution_count": null,
   "metadata": {
    "colab": {
     "base_uri": "https://localhost:8080/"
    },
    "id": "ukt9trksmCUZ",
    "outputId": "d1c45e58-7cfc-4f9e-a8ff-9d06606d72e0"
   },
   "outputs": [
    {
     "data": {
      "text/plain": [
       "0.8"
      ]
     },
     "execution_count": 4,
     "metadata": {},
     "output_type": "execute_result"
    }
   ],
   "source": [
    "dt_model.score(test_x, test_y)"
   ]
  },
  {
   "cell_type": "markdown",
   "metadata": {
    "id": "ccs49kGbop8W"
   },
   "source": [
    "The default Decision Tree model has an accuracy of 100% on the training set and 80% on the test set, which suggests that it might overfit the data. Let's now consider several different values for the two parameters in Adaboost and use the **10-fold Cross Validation** method to find the optimal parameters. Cross-validation is beyond the materials we want to provide through this tutorial; if you are interested in learning more, you can find more information at https://en.wikipedia.org/wiki/Cross-validation_(statistics). "
   ]
  },
  {
   "cell_type": "code",
   "execution_count": null,
   "metadata": {
    "colab": {
     "base_uri": "https://localhost:8080/"
    },
    "id": "ZxCMEnMJmcxj",
    "outputId": "1a60a41f-0fc4-4ed7-de6c-b66e1c1b158d"
   },
   "outputs": [
    {
     "name": "stdout",
     "output_type": "stream",
     "text": [
      "Number of trees:  10 ; Learning rate:  0.6 ; Cross Validation Score:  0.7274999999999999\n",
      "Number of trees:  10 ; Learning rate:  0.8 ; Cross Validation Score:  0.745\n",
      "Number of trees:  10 ; Learning rate:  1 ; Cross Validation Score:  0.7425\n",
      "Number of trees:  25 ; Learning rate:  0.6 ; Cross Validation Score:  0.7962499999999999\n",
      "Number of trees:  25 ; Learning rate:  0.8 ; Cross Validation Score:  0.8\n",
      "Number of trees:  25 ; Learning rate:  1 ; Cross Validation Score:  0.79125\n",
      "Number of trees:  50 ; Learning rate:  0.6 ; Cross Validation Score:  0.8162499999999999\n",
      "Number of trees:  50 ; Learning rate:  0.8 ; Cross Validation Score:  0.8175000000000001\n",
      "Number of trees:  50 ; Learning rate:  1 ; Cross Validation Score:  0.8087500000000001\n",
      "Number of trees:  100 ; Learning rate:  0.6 ; Cross Validation Score:  0.83375\n",
      "Number of trees:  100 ; Learning rate:  0.8 ; Cross Validation Score:  0.83375\n",
      "Number of trees:  100 ; Learning rate:  1 ; Cross Validation Score:  0.835\n",
      "Number of trees:  200 ; Learning rate:  0.6 ; Cross Validation Score:  0.8299999999999998\n",
      "Number of trees:  200 ; Learning rate:  0.8 ; Cross Validation Score:  0.82125\n",
      "Number of trees:  200 ; Learning rate:  1 ; Cross Validation Score:  0.82\n"
     ]
    }
   ],
   "source": [
    "from sklearn.model_selection import cross_val_score\n",
    "from numpy import mean\n",
    "from sklearn.ensemble import AdaBoostClassifier\n",
    "\n",
    "num_of_trees = [10, 25, 50, 100, 200]\n",
    "learning_rate = [0.6, 0.8, 1]\n",
    "\n",
    "for i in num_of_trees:\n",
    "\n",
    "  for j in learning_rate:\n",
    "\n",
    "    model = AdaBoostClassifier(n_estimators = i, learning_rate = j) \n",
    "\n",
    "    accuracy = cross_val_score(model, train_x, train_y, cv = 10)\n",
    "\n",
    "    print(\"Number of trees: \", i, \"; Learning rate: \", j, \"; Cross Validation Score: \", mean(accuracy))"
   ]
  },
  {
   "cell_type": "markdown",
   "metadata": {
    "id": "Fw6pUXforf4W"
   },
   "source": [
    "Using cross-validation, we can see that the combinations of parameters that may yield best possible prediction accuracy are **n_estimators = 100, learning_rate = 1, 0.8, or 0.6**, and **n_estimators = 200, learning_rate = 0.6**. Let's try two of them and see if this time Adaboost can yield higher accuracy than our baseline classifier:"
   ]
  },
  {
   "cell_type": "code",
   "execution_count": null,
   "metadata": {
    "colab": {
     "base_uri": "https://localhost:8080/"
    },
    "id": "JI-UXvMhmFuA",
    "outputId": "d4726d0e-a724-4db1-c1e8-eccd9b6ea567"
   },
   "outputs": [
    {
     "data": {
      "text/plain": [
       "0.95375"
      ]
     },
     "execution_count": 7,
     "metadata": {},
     "output_type": "execute_result"
    }
   ],
   "source": [
    "from sklearn.ensemble import AdaBoostClassifier\n",
    "\n",
    "adaboost_model = AdaBoostClassifier(n_estimators = 100, learning_rate = 1)\n",
    "\n",
    "adaboost_model.fit(train_x, train_y)\n",
    "\n",
    "adaboost_model.score(train_x, train_y)"
   ]
  },
  {
   "cell_type": "code",
   "execution_count": null,
   "metadata": {
    "colab": {
     "base_uri": "https://localhost:8080/"
    },
    "id": "eZ43ZV9hmGEp",
    "outputId": "ad22232b-49c3-46f5-daa9-dff81c5b4de0"
   },
   "outputs": [
    {
     "data": {
      "text/plain": [
       "0.86"
      ]
     },
     "execution_count": 8,
     "metadata": {},
     "output_type": "execute_result"
    }
   ],
   "source": [
    "adaboost_model.score(test_x, test_y)"
   ]
  },
  {
   "cell_type": "code",
   "execution_count": null,
   "metadata": {
    "colab": {
     "base_uri": "https://localhost:8080/"
    },
    "id": "9SivLTfuqU-L",
    "outputId": "b97da917-ac03-4ac8-a231-8bb1eb09f639"
   },
   "outputs": [
    {
     "data": {
      "text/plain": [
       "0.96125"
      ]
     },
     "execution_count": 9,
     "metadata": {},
     "output_type": "execute_result"
    }
   ],
   "source": [
    "from sklearn.ensemble import AdaBoostClassifier\n",
    "\n",
    "adaboost_model = AdaBoostClassifier(n_estimators = 200, learning_rate = 0.6)\n",
    "\n",
    "adaboost_model.fit(train_x, train_y)\n",
    "\n",
    "adaboost_model.score(train_x, train_y)"
   ]
  },
  {
   "cell_type": "code",
   "execution_count": null,
   "metadata": {
    "colab": {
     "base_uri": "https://localhost:8080/"
    },
    "id": "U7IcjqODqYSr",
    "outputId": "3d4fee96-5ba4-4491-9520-7ceece9eb37a"
   },
   "outputs": [
    {
     "data": {
      "text/plain": [
       "0.85"
      ]
     },
     "execution_count": 10,
     "metadata": {},
     "output_type": "execute_result"
    }
   ],
   "source": [
    "adaboost_model.score(test_x, test_y)"
   ]
  },
  {
   "cell_type": "markdown",
   "metadata": {
    "id": "liqEMFIvFRKt"
   },
   "source": [
    "Both of them has more than **5%** higher accuracy score than our baseline model! These results suggest that, indeed, Adaboost can perform very well by aggregating weak learners to a strong learner that yields better results, provided that the dataset is very clean and organized."
   ]
  },
  {
   "cell_type": "markdown",
   "metadata": {
    "id": "CF8utsC5rr8r"
   },
   "source": [
    "**YOUR TURN!**\n",
    "\n",
    "You can try the other two combinations of parameters we selected above and check the model accuracy, or you can even find other optimal combinations by performing cross-validation yourself. \n",
    "\n",
    "<br>\n",
    "\n",
    "Keep in mind that Adaboost is a relatively slow algorithm. The time complexity for Adaboost is O(d²·n), where d is the number of predictors in the dataset. Taking the two for-loops below into consideration, the whole process will take O(d²·n³). Therefore, you may not want to try too many parameter values at once.\n",
    "\n",
    "<br>\n",
    "\n",
    "Can you fit a better model that has an accuracy higher than 86%?"
   ]
  },
  {
   "cell_type": "code",
   "execution_count": null,
   "metadata": {
    "id": "_c3lTbU_Ge4X"
   },
   "outputs": [],
   "source": [
    "from sklearn.model_selection import cross_val_score\n",
    "from numpy import mean\n",
    "from sklearn.ensemble import AdaBoostClassifier\n",
    "\n",
    "## Fill in the values you like for the parameters below:\n",
    "\n",
    "num_of_trees = []\n",
    "learning_rate = []\n",
    "\n",
    "for i in num_of_trees:\n",
    "\n",
    "  for j in learning_rate:\n",
    "\n",
    "    model = AdaBoostClassifier(n_estimators = i, learning_rate = j) \n",
    "\n",
    "    accuracy = cross_val_score(model, train_x, train_y, cv = 10)\n",
    "\n",
    "    print(\"Number of trees: \", i, \"; Learning rate: \", j, \"; Cross Validation Score: \", mean(accuracy))"
   ]
  },
  {
   "cell_type": "code",
   "execution_count": null,
   "metadata": {
    "id": "QzYQsdgvG5Rj"
   },
   "outputs": [],
   "source": [
    "from sklearn.ensemble import AdaBoostClassifier\n",
    "\n",
    "param1 = a # Fill in the optimal parameter from your cross validation result\n",
    "param2 = b # Replace a and b with numeric values\n",
    "\n",
    "adaboost_model = AdaBoostClassifier(n_estimators = a, learning_rate = b)\n",
    "\n",
    "adaboost_model.fit(train_x, train_y)\n",
    "\n",
    "adaboost_model.score(test_x, test_y)"
   ]
  },
  {
   "cell_type": "markdown",
   "metadata": {
    "id": "b6M5uGP-k-8G"
   },
   "source": [
    "#### v. Data with Correlated Predictors"
   ]
  },
  {
   "cell_type": "markdown",
   "metadata": {
    "id": "f0at3tQ5Iuve"
   },
   "source": [
    "The last type of data that we want to introduce to you through simulation is those data with predictors that are highly correlated with each other. This is also often referred as \"multicollinearity\", which often causes problems when building our models because the models could put large weights on very similar predictors. In this section, let's examine if Adaboost can take care of multicollinearity - this time, we have a regression problem with 1000 observations and 20 predictors, **but only 15 of them are informative**. The other 5 predictors are redundant - they are linear combinations of other predictors (in other words, they are correlated with other predictors). As usual, we will use MSE (mean squared error) as the metric of accuracy."
   ]
  },
  {
   "cell_type": "code",
   "execution_count": null,
   "metadata": {
    "id": "F4Q0IlzNOVds"
   },
   "outputs": [],
   "source": [
    "from sklearn.datasets import make_regression\n",
    "\n",
    "X, y = make_regression(n_samples = 1000,     # 1000 observations\n",
    "               n_features = 20,   # 20 variables/predictors\n",
    "               n_informative = 15, \n",
    "               random_state = 1)  \n"
   ]
  },
  {
   "cell_type": "code",
   "execution_count": null,
   "metadata": {
    "colab": {
     "base_uri": "https://localhost:8080/"
    },
    "id": "odxzlji2OVui",
    "outputId": "456ce4ea-ec41-4da4-90b3-80beb791a578"
   },
   "outputs": [
    {
     "data": {
      "text/plain": [
       "37476.687135748594"
      ]
     },
     "execution_count": 16,
     "metadata": {},
     "output_type": "execute_result"
    }
   ],
   "source": [
    "from sklearn.tree import DecisionTreeRegressor\n",
    "from sklearn.model_selection import train_test_split\n",
    "from sklearn.metrics import mean_squared_error\n",
    "\n",
    "train_x, test_x, train_y, test_y = train_test_split(X, y, train_size = 0.8, random_state = 1)\n",
    "\n",
    "dt_model = DecisionTreeRegressor(random_state = 1)\n",
    "\n",
    "dt_model.fit(train_x, train_y)\n",
    "\n",
    "dt_pred_y = dt_model.predict(test_x)\n",
    "\n",
    "dt_mse = mean_squared_error(test_y, dt_pred_y)\n",
    "\n",
    "dt_mse"
   ]
  },
  {
   "cell_type": "code",
   "execution_count": null,
   "metadata": {
    "colab": {
     "base_uri": "https://localhost:8080/"
    },
    "id": "5zRJ__VDOsxx",
    "outputId": "9f0f253e-5dda-4394-d1c5-d6ee579d1331"
   },
   "outputs": [
    {
     "name": "stdout",
     "output_type": "stream",
     "text": [
      "Number of trees:  10\n",
      "Test MSE:  24958.126561511057\n",
      "Number of trees:  25\n",
      "Test MSE:  19879.099320474375\n",
      "Number of trees:  50\n",
      "Test MSE:  16569.879451732548\n",
      "Number of trees:  100\n",
      "Test MSE:  14832.401036047695\n",
      "Number of trees:  200\n",
      "Test MSE:  13905.505859309924\n"
     ]
    }
   ],
   "source": [
    "from sklearn.ensemble import AdaBoostRegressor\n",
    "\n",
    "num_of_trees = [10, 25, 50, 100, 200]\n",
    "\n",
    "for i in range(len(num_of_trees)):\n",
    "\n",
    "  n_estimator = num_of_trees[i]\n",
    "\n",
    "  adaboost_model = AdaBoostRegressor(n_estimators = n_estimator, learning_rate = 1, random_state = 1)\n",
    "\n",
    "  adaboost_model.fit(train_x, train_y)\n",
    "\n",
    "  adaboost_pred_y = adaboost_model.predict(test_x)\n",
    "\n",
    "  adaboost_mse = mean_squared_error(test_y, adaboost_pred_y)\n",
    "\n",
    "  print(\"Number of trees: \", n_estimator)\n",
    "\n",
    "  print (\"Test MSE: \", adaboost_mse)"
   ]
  },
  {
   "cell_type": "markdown",
   "metadata": {
    "id": "7CUl_KdkQeCt"
   },
   "source": [
    "We can see that Adaboost has a much lower test MSE compared to our baseline model. When there are strong predictors in the dataset, they can easily \"dominate\" the whole decision tree. Adaboost can fix this issue by assigning less weight to those trees with lower accuracy.\n",
    "\n",
    "<br>\n",
    "\n",
    "However, there is a better ensemble method to handle this type of data - **Random Forest**. As we mentioned in the first section, Random Forest aims to remove the effects of correlations by fitting each tree using only a random sample of predictors. You will see the simulation with Random Forest using this dataset in the next part. "
   ]
  },
  {
   "cell_type": "markdown",
   "metadata": {
    "id": "gx2M0gM6pXHR"
   },
   "source": [
    "#### vi. Summary of The Adaboost Simulation"
   ]
  },
  {
   "cell_type": "markdown",
   "metadata": {
    "id": "9xhMNLK4TRTg"
   },
   "source": [
    "We have now walked through five different types of data and used simulation to examine the performance of Adaboost in different situations. **Here are the quick takeaways of when you should consider using Adaboost and when you should not**:\n",
    "\n",
    "<br>\n",
    "\n",
    "- **Simple Data**: Adaboost does not have a clear advantage compared to the standard Decision Tree model because the latter can already have great accuracy even when the data has some noise;\n",
    "- **Large Data with Noise/Outliers**: Be very careful because Adaboost may not handle noisy data and outliers well;\n",
    "- **Clean Data**: Adaboost has great performances on clean datasets, so it can definitely be one of your modeling choices if your data is well-organized with very few noise/outliers;\n",
    "- **Highly Correlated Data**: Adaboost performs better than standard Decision Tree models, but there is a better choice as you will discover the advantage of Random Forest in the next part.\n",
    "\n",
    "<br>\n",
    "\n",
    "Therefore, let's move on to the next part of our simulation by using one of the most popular bagging methods: **Random Forest**."
   ]
  },
  {
   "cell_type": "markdown",
   "metadata": {
    "id": "O3NITfqqy7YP"
   },
   "source": [
    "### 2. Random Forest Simulation"
   ]
  },
  {
   "cell_type": "markdown",
   "metadata": {
    "id": "vdgZQB-F5IJ2"
   },
   "source": [
    "#### i. Simple Data with Some Noise"
   ]
  },
  {
   "cell_type": "markdown",
   "metadata": {
    "id": "dQni74_DzOuy"
   },
   "source": [
    "Random Forest Model depends on the number of trees the algorithm builds on. Another feature is the number of predictors sampled as split candidates from the full set of predictors. These hyperparameters will depend on the choices the users make. One advantage of Random Forest Model is that it decorrelates the tree. \n",
    "\n",
    "Let's first take a look at one example with simple data. Suppose now we have 20 observations and 3 features in total. There are two classes within the data."
   ]
  },
  {
   "cell_type": "code",
   "execution_count": null,
   "metadata": {
    "colab": {
     "base_uri": "https://localhost:8080/"
    },
    "id": "K5cE1I38zRVk",
    "outputId": "266babe6-2a82-4ccf-ea33-fc28341a0a68"
   },
   "outputs": [
    {
     "name": "stdout",
     "output_type": "stream",
     "text": [
      "Accuracy for rf: 0.75\n"
     ]
    }
   ],
   "source": [
    "import pandas as pd\n",
    "import sklearn\n",
    "from sklearn.tree import DecisionTreeClassifier\n",
    "from sklearn.ensemble import RandomForestClassifier\n",
    "from sklearn.datasets import make_classification\n",
    "from sklearn.model_selection import train_test_split\n",
    "from sklearn.metrics import classification_report\n",
    "\n",
    "# Create a random dataset with 20 samples and 3 features\n",
    "X, y = make_classification(n_samples=20, n_features=3, n_informative = 3, \n",
    "               n_redundant = 0, \n",
    "               random_state = 1, \n",
    "               flip_y = 0.2)\n",
    "\n",
    "# Split the data into training and test sets\n",
    "X_train, X_test, y_train, y_test = train_test_split(X, y, test_size = 0.2, random_state = 1, stratify = y)\n",
    "\n",
    "# Create a random forest classifier with 20 trees\n",
    "clf = RandomForestClassifier(n_estimators=20, random_state=1)\n",
    "\n",
    "\n",
    "# Train the classifier on the training data\n",
    "clf.fit(X_train, y_train)\n",
    "\n",
    "# Use the trained classifier to make predictions on the test data\n",
    "predictions = clf.predict(X_test)\n",
    "\n",
    "# Evaluate the performance of the model using the mean accuracy\n",
    "accuracy = clf.score(X_test, y_test)\n",
    "print('Accuracy for rf:', accuracy)"
   ]
  },
  {
   "cell_type": "code",
   "execution_count": null,
   "metadata": {
    "colab": {
     "base_uri": "https://localhost:8080/"
    },
    "id": "DypVhFXiziBm",
    "outputId": "685fc770-df6a-420c-ca44-bb8bee3f67ab"
   },
   "outputs": [
    {
     "name": "stdout",
     "output_type": "stream",
     "text": [
      "Accuracy for DecisionTree: 1.0\n"
     ]
    }
   ],
   "source": [
    "from sklearn.tree import DecisionTreeClassifier\n",
    "\n",
    "clf_dt = DecisionTreeClassifier(random_state=1)\n",
    "\n",
    "# Train the classifier on the dataset\n",
    "clf_dt.fit(X_train, y_train)\n",
    "\n",
    "# Use the trained classifier to make predictions on new data\n",
    "predictions_dt = clf_dt.predict(X_test)\n",
    "\n",
    "accuracy_dt = clf_dt.score(X_test, y_test)\n",
    "print('Accuracy for DecisionTree:', accuracy_dt)"
   ]
  },
  {
   "cell_type": "markdown",
   "metadata": {
    "id": "VKE8nuX0zjSq"
   },
   "source": [
    "In the simple case above, we can see that the performance of Random Forest is worse than Decision Tree and Adaboost. One possible is that when only given three features, by default of the function, Random Forest Model will take square root of the total number of features as number of features sampled. The number of features is small in this case, therefore when doing tradeoff between bias and variance, Random Forest suffers more from the higher bias. If we have simple data with two or three predictors, Decision Tree might be a better choice than Random Forest Model. We will next do a experiment with a little more complex dataset by adding more informative predictors."
   ]
  },
  {
   "cell_type": "code",
   "execution_count": null,
   "metadata": {
    "colab": {
     "base_uri": "https://localhost:8080/"
    },
    "id": "NozbGfG_zl8V",
    "outputId": "d45654fe-a789-4895-f17e-f6eba82f09de"
   },
   "outputs": [
    {
     "name": "stdout",
     "output_type": "stream",
     "text": [
      "Accuracy for rf with 3 features per sampled: 0.65\n",
      "Accuracy for rf with 5 features per sampled: 0.7\n",
      "Accuracy for rf with 10 features per sampled (bagging): 0.6\n",
      "Accuracy for DecisionTree: 0.5\n"
     ]
    }
   ],
   "source": [
    "X, y = make_classification(n_samples=100, n_features=10, n_informative=10,n_redundant = 0, random_state=3, flip_y = 0.2)\n",
    "\n",
    "X_train, X_test, y_train, y_test = train_test_split(X, y, test_size = 0.2, random_state = 3, stratify = y)\n",
    "\n",
    "clf = RandomForestClassifier(n_estimators=100, random_state=3)\n",
    "clf_2 = RandomForestClassifier(n_estimators=100, max_features=5, random_state=3)\n",
    "clf_bag = RandomForestClassifier(n_estimators=100, max_features=10, random_state=3)\n",
    "# Train the classifier on the training data\n",
    "clf.fit(X_train, y_train)\n",
    "clf_2.fit(X_train, y_train)\n",
    "clf_bag.fit(X_train, y_train)\n",
    "# Use the trained classifier to make predictions on the test data\n",
    "predictions = clf.predict(X_test)\n",
    "\n",
    "accuracy = clf.score(X_test, y_test)\n",
    "print('Accuracy for rf with 3 features per sampled:', accuracy)\n",
    "\n",
    "predictions = clf_2.predict(X_test)\n",
    "accuracy = clf_2.score(X_test, y_test)\n",
    "print('Accuracy for rf with 5 features per sampled:', accuracy)\n",
    "\n",
    "predictions = clf_bag.predict(X_test)\n",
    "accuracy = clf_bag.score(X_test, y_test)\n",
    "print('Accuracy for rf with 10 features per sampled (bagging):', accuracy)\n",
    "\n",
    "\n",
    "clf_dt = DecisionTreeClassifier(random_state=3)\n",
    "\n",
    "# Train the classifier on the dataset\n",
    "clf_dt.fit(X_train, y_train)\n",
    "\n",
    "# Use the trained classifier to make predictions on new data\n",
    "predictions_dt = clf_dt.predict(X_test)\n",
    "\n",
    "accuracy_dt = clf_dt.score(X_test, y_test)\n",
    "print('Accuracy for DecisionTree:', accuracy_dt)"
   ]
  },
  {
   "cell_type": "markdown",
   "metadata": {
    "id": "tnuK0Eb4zrIq"
   },
   "source": [
    "In the experiment above, Random Forest Model performs better than the simple Decision Tree. For the Random Forest Model, the number of predictors sampled as split candidates from the full set of predictors is the parameter the users can change. In this case, we try both 3 features, which is square root of the total features, and 5 features. We also try sample 10 features each time. In this case, all predictors should be considered\n",
    "for each split of the tree. However, it turns out that it is not always better to sample more features. The users can do cross-validation or other model selection techniques to find the best value for your particular model. \n",
    "\n",
    "Next, we will do comparison between Random Forest Model and Adaboost in different scenarios. "
   ]
  },
  {
   "cell_type": "markdown",
   "metadata": {
    "id": "KwIFdrJdDxE-"
   },
   "source": [
    "#### ii. Large Dataset with Noise"
   ]
  },
  {
   "cell_type": "markdown",
   "metadata": {
    "id": "tB9_S4buIAY5"
   },
   "source": [
    "We would see how Random Forest Model performs when we have larger dataset with noise. In the experiment below, we use the same dataset as the one in the previous part for Adaboost."
   ]
  },
  {
   "cell_type": "code",
   "execution_count": null,
   "metadata": {
    "colab": {
     "base_uri": "https://localhost:8080/"
    },
    "id": "rXJPpmFPIEDP",
    "outputId": "dc0b3edd-23dd-4743-871d-e90015f0a02c"
   },
   "outputs": [
    {
     "name": "stdout",
     "output_type": "stream",
     "text": [
      "Best max_features: 6\n",
      "Best score: 0.8350000000000002\n"
     ]
    }
   ],
   "source": [
    "from sklearn.model_selection import GridSearchCV\n",
    "X, y = make_classification(n_samples = 1000,    # 1000 observations\n",
    "               n_features = 20,    # 20 variables/predictors\n",
    "               n_informative = 20, \n",
    "               n_redundant = 0,\n",
    "               random_state = 1, \n",
    "               flip_y = 0.2)     # 20% of the observations will be assigned to the 2 classes randomly\n",
    "train_x, test_x, train_y, test_y = train_test_split(X, y, train_size = 0.8, random_state = 1, stratify = y)\n",
    "\n",
    "max_features_values = [1, 2, 3, 4, 5, 6, 7, 8, 9, 10]\n",
    "\n",
    "# Create a dictionary mapping the max_features parameter to the list of values\n",
    "param_grid = {'max_features': max_features_values}\n",
    "\n",
    "# Create a random forest classifier\n",
    "clf = RandomForestClassifier(n_estimators=100, random_state=1)\n",
    "\n",
    "# Create a grid search object using 10-fold cross-validation and the specified values for the max_features parameter\n",
    "grid_search = GridSearchCV(clf, param_grid, cv=10, scoring='accuracy')\n",
    "\n",
    "# Train the grid search object on the dataset\n",
    "grid_search.fit(train_x,train_y)\n",
    "\n",
    "# Print the best value of the max_features parameter and the corresponding mean cross-validation score\n",
    "print('Best max_features:', grid_search.best_params_['max_features'])\n",
    "print('Best score:', grid_search.best_score_)"
   ]
  },
  {
   "cell_type": "markdown",
   "metadata": {
    "id": "U6i-buc1IWYv"
   },
   "source": [
    "Recalled that the train accuracy for this dataset when we employ Adaboost is 84.125%, Random Forest Model's train accuracy is roughly the same here if we take 6 features for each split of the tree. The users can tune this parameter, and remember that default number of features is square root of number of total features."
   ]
  },
  {
   "cell_type": "code",
   "execution_count": null,
   "metadata": {
    "colab": {
     "base_uri": "https://localhost:8080/"
    },
    "id": "91WISU7SIffe",
    "outputId": "c85454ce-1082-4a56-a5c9-623ea28d1f91"
   },
   "outputs": [
    {
     "name": "stdout",
     "output_type": "stream",
     "text": [
      "Accuracy for rf with 6 features per sampled: 0.83\n"
     ]
    }
   ],
   "source": [
    "clf = RandomForestClassifier(n_estimators=100, max_features=6, random_state=1)\n",
    "clf.fit(train_x, train_y)\n",
    "predictions = clf.predict(test_x)\n",
    "accuracy = clf.score(test_x, test_y)\n",
    "print('Accuracy for rf with 6 features per sampled:', accuracy)"
   ]
  },
  {
   "cell_type": "markdown",
   "metadata": {
    "id": "UMlKTvMUIi_A"
   },
   "source": [
    "Though there is no much difference between the training accuracy for Random Forest Model and Adaboost. Random Forest performs better for the same set of test data than the Adaboost Model. Compared with Adaboost's test accuracy of 69.5%, Random Forest's test accuracy is 83%, which is a lot better. This result supports our conclusion that Random Forest Model might be a better choice than Adaboost when we have a large dataset with noise.\n",
    "\n",
    "Random Forest use a bagging approach, and each tree in the forest is trained on a bootstrapped sample of the training data, and the final prediction of the random forest is the average or the majority vote of the individual tree predictions. In contrast, Adaboost takes the weighted sum of the individual tree predictions. This approach can be more sensitive to the individual errors of the trees, for instance, when the data is noisy. Another common type of error for data is outliers. Let's see if Random Forest has better performance when we have data with outliers. "
   ]
  },
  {
   "cell_type": "markdown",
   "metadata": {
    "id": "7-dDZr1MHvsN"
   },
   "source": [
    "#### iii. Data with Outliers"
   ]
  },
  {
   "cell_type": "markdown",
   "metadata": {
    "id": "tJepZqDVH_4Q"
   },
   "source": [
    "We still choose to use the same dataset as the one Adaboost model trains on. This time, we use **RandomForestRegressor** instead of **RandomForestClassifier**. "
   ]
  },
  {
   "cell_type": "code",
   "execution_count": null,
   "metadata": {
    "colab": {
     "base_uri": "https://localhost:8080/"
    },
    "id": "tu1mosUQMFv7",
    "outputId": "edbb25c2-ecb9-436f-92f3-62572d2ebaf6"
   },
   "outputs": [
    {
     "name": "stdout",
     "output_type": "stream",
     "text": [
      "Best hyperparameters: {'n_estimators': 5}\n",
      "Best Mean-Squared-Error: 1500.8193652620153\n"
     ]
    }
   ],
   "source": [
    "from sklearn.datasets import make_regression\n",
    "import numpy as np\n",
    "from sklearn.model_selection import GridSearchCV\n",
    "from sklearn.ensemble import RandomForestRegressor\n",
    "X, y = make_regression(n_samples = 200,    # 200 observations\n",
    "             n_features = 3,    # 3 variables/predictors\n",
    "             n_informative = 3, \n",
    "             random_state = 1)     \n",
    "import random\n",
    "random.seed(1)\n",
    "outliers = []\n",
    "\n",
    "## Draw 20 outliers with their classes\n",
    "\n",
    "for i in range(20):\n",
    "  outliers.append (random.sample(range(-10, 10), 3))\n",
    "outlier_classes = []\n",
    "\n",
    "for i in range(20):\n",
    "  outlier_classes.append(random.sample(range(-200, 200), 1)[0])\n",
    "\n",
    "X = np.insert(X, 0, outliers, axis = 0)\n",
    "y = np.insert(y, 0, outlier_classes)\n",
    "# Split the data into training and test sets\n",
    "X_train, X_test, y_train, y_test = train_test_split(X, y, test_size=0.2, random_state=1)\n",
    "\n",
    "param_grid = {'n_estimators': [5,25,50,100]}\n",
    "\n",
    "# Create a random forest regression model\n",
    "clf = RandomForestRegressor(random_state=1,max_features=2)\n",
    "\n",
    "# Create a grid search object using 10-fold cross-validation and the specified hyperparameter values\n",
    "grid_search = GridSearchCV(clf, param_grid, cv=10, scoring='neg_mean_squared_error')\n",
    "\n",
    "# Train the grid search object on the training data\n",
    "grid_search.fit(X_train, y_train)\n",
    "\n",
    "# Print the best combination of hyperparameters and the corresponding mean cross-validation score\n",
    "print('Best hyperparameters:', grid_search.best_params_)\n",
    "print('Best Mean-Squared-Error:',-grid_search.best_score_)"
   ]
  },
  {
   "cell_type": "markdown",
   "metadata": {
    "id": "272SLEsWMKf4"
   },
   "source": [
    "This time, we do cross-validation to find the optimal number of trees. When **n_estimators** is 5, best Mean-Squared-Error for train dataset is 1500.819, which is significantly lower than that for Decision Tree."
   ]
  },
  {
   "cell_type": "code",
   "execution_count": null,
   "metadata": {
    "colab": {
     "base_uri": "https://localhost:8080/"
    },
    "id": "hIo-aV6mM4y-",
    "outputId": "1c662552-07c3-44c7-d101-d605222cce05"
   },
   "outputs": [
    {
     "name": "stdout",
     "output_type": "stream",
     "text": [
      "Mean-Squared-Error for rf: 2575.923008236566\n"
     ]
    }
   ],
   "source": [
    "from sklearn.metrics import mean_squared_error\n",
    "clf = RandomForestRegressor(n_estimators=5, random_state=1,max_features =2)\n",
    "clf.fit(X_train, y_train)\n",
    "\n",
    "# Make predictions on the test data\n",
    "y_pred = clf.predict(X_test)\n",
    "\n",
    "# Compute the mean-squared-error between the predicted and true values\n",
    "mse = mean_squared_error(y_test, y_pred)\n",
    "print('Mean-Squared-Error for rf:', mse)"
   ]
  },
  {
   "cell_type": "markdown",
   "metadata": {
    "id": "Xdd0gOHaNUxX"
   },
   "source": [
    "The Mean-Squared-Error for the test data when using Random Forest Model is 2575.923, which is much better than the performance of Adaboost -- Test MSE for Adaboost with 5 trees is 3349.373. This result supports our conclusion again that Random Forest Model can handle datasets with noise and outliers more effectively than Adaboost."
   ]
  },
  {
   "cell_type": "markdown",
   "metadata": {
    "id": "ToxGrFMsPnP4"
   },
   "source": [
    "#### iv. Data without Noise/Outliers"
   ]
  },
  {
   "cell_type": "markdown",
   "metadata": {
    "id": "jKUVtHroPq8w"
   },
   "source": [
    "When we have data with noise, it might be better to choose Random Forest rather than Adaboost. Now if we have some large datasets without noise or outliers, will Random Forest still outperform Adaboost? The dataset has 1000 observations and 20 informative features. We use the same **random_state=1** to generate data for Random Forest model."
   ]
  },
  {
   "cell_type": "code",
   "execution_count": null,
   "metadata": {
    "colab": {
     "base_uri": "https://localhost:8080/"
    },
    "id": "bEQf6pxYWblw",
    "outputId": "d4a159ba-9a83-45d5-deb6-665e85eb5e02"
   },
   "outputs": [
    {
     "name": "stdout",
     "output_type": "stream",
     "text": [
      "Best max_features: 4\n",
      "Best score: 0.9087500000000001\n"
     ]
    }
   ],
   "source": [
    "X, y = make_classification(n_samples = 1000,    # 1000 observations\n",
    "               n_features = 20,    # 20 variables/predictors\n",
    "               n_informative = 20, \n",
    "               n_redundant = 0,\n",
    "               random_state = 1) \n",
    "train_x, test_x, train_y, test_y = train_test_split(X, y, train_size = 0.8, random_state = 1, stratify = y)\n",
    "\n",
    "max_features_values = [1, 2, 3, 4, 5, 6]\n",
    "\n",
    "# Create a dictionary mapping the max_features parameter to the list of values\n",
    "param_grid = {'max_features': max_features_values}\n",
    "\n",
    "# Create a random forest classifier\n",
    "clf = RandomForestClassifier(n_estimators=100, random_state=1)\n",
    "\n",
    "# Create a grid search object using 10-fold cross-validation and the specified values for the max_features parameter\n",
    "grid_search = GridSearchCV(clf, param_grid, cv=10, scoring='accuracy')\n",
    "\n",
    "# Train the grid search object on the dataset\n",
    "grid_search.fit(train_x,train_y)\n",
    "\n",
    "# Print the best value of the max_features parameter and the corresponding mean cross-validation score\n",
    "print('Best max_features:', grid_search.best_params_['max_features'])\n",
    "print('Best score:', grid_search.best_score_)"
   ]
  },
  {
   "cell_type": "code",
   "execution_count": null,
   "metadata": {
    "colab": {
     "base_uri": "https://localhost:8080/"
    },
    "id": "CSxw0geDXrsy",
    "outputId": "47caddf1-3678-4230-aae8-a0b44882026d"
   },
   "outputs": [
    {
     "name": "stdout",
     "output_type": "stream",
     "text": [
      "Accuracy for rf with 4 features per sampled: 0.905\n"
     ]
    }
   ],
   "source": [
    "clf = RandomForestClassifier(n_estimators=100, max_features=4, random_state=1)\n",
    "clf.fit(train_x, train_y)\n",
    "predictions = clf.predict(test_x)\n",
    "accuracy = clf.score(test_x, test_y)\n",
    "print('Accuracy for rf with 4 features per sampled:', accuracy)"
   ]
  },
  {
   "cell_type": "markdown",
   "metadata": {
    "id": "ZKng7WHYXs3A"
   },
   "source": [
    "By employing cross-validation, we choose 4 features sampled for each tree. For Random Forest, the training accuracy is 90.875% and test accuracy is 90.5%. Recalled that for Adaboost model, the training accuracy is 95.375% and 96.125%,  while the test accuracy is 86% and 85%. Adaboost outperforms Random Forest when training the model, but Random Forest is more robust as its test accuracy is higher than Adaboost. Overall, if we have some clean dataset, both Adaboost and Random Forest are good choices as they all have test accuracy over 80% in the experiments."
   ]
  },
  {
   "cell_type": "markdown",
   "metadata": {
    "id": "fg8OSP2ma1Vp"
   },
   "source": [
    "**YOUR TURN!**\n",
    "\n",
    "For Random Forest model, number of predictors that are sampled for each tree is not the only parameter we can tune. Let's also try tune the total number of trees for the model. For the interactive example below, input one number as the total number of trees based on your preference. See if we can train one model that has higher test accuracy."
   ]
  },
  {
   "cell_type": "code",
   "execution_count": null,
   "metadata": {
    "id": "RJQ50HlSa1iC"
   },
   "outputs": [],
   "source": [
    "numest = input('You would like how many number of trees in the random forest model? ')\n",
    "numest = int(numest)\n",
    "clf_yourturn = RandomForestClassifier(n_estimators = numest, max_features=4, random_state=1)\n",
    "clf_yourturn.fit(train_x, train_y)\n",
    "predictions = clf_yourturn.predict(test_x)\n",
    "accuracy = clf_yourturn.score(test_x, test_y)\n",
    "print('Accuracy is:', accuracy)"
   ]
  },
  {
   "cell_type": "markdown",
   "metadata": {
    "id": "hX7H3cyztkig"
   },
   "source": [
    "#### v. Data with Correlated Predictors"
   ]
  },
  {
   "cell_type": "markdown",
   "metadata": {
    "id": "nROpjTyOtpPN"
   },
   "source": [
    "When we have some correlated features in the dataset, theoretically Random Forest should be robust. Each decision tree in the random forest is trained on a different subset of the data, and the subsets are selected randomly. Therefore, the trees in the forest are less likely to be affected by the correlations in the data. We use the same training and test datasets as Adaboost. "
   ]
  },
  {
   "cell_type": "code",
   "execution_count": null,
   "metadata": {
    "colab": {
     "base_uri": "https://localhost:8080/"
    },
    "id": "IEmqVrfIukIq",
    "outputId": "00622135-cc19-45bc-a84f-1be7e95a3732"
   },
   "outputs": [
    {
     "name": "stdout",
     "output_type": "stream",
     "text": [
      "Best max_features: auto\n",
      "Best value of n_estimators: 200\n",
      "Test MSE: 13544.724984657567\n"
     ]
    }
   ],
   "source": [
    "X, y = make_regression(n_samples = 1000,     # 1000 observations\n",
    "               n_features = 20,   # 20 variables/predictors\n",
    "               n_informative = 15, \n",
    "               random_state = 1)  \n",
    "\n",
    "train_x, test_x, train_y, test_y = train_test_split(X, y, train_size = 0.8, random_state = 1)\n",
    "\n",
    "param_grid = {'max_features': ['auto', 'sqrt', 'log2'],\n",
    "        'n_estimators': [10, 25, 50, 100, 200]}\n",
    "\n",
    "\n",
    "clf = RandomForestRegressor(random_state=1)\n",
    "\n",
    "grid_search = GridSearchCV(clf, param_grid, cv=10, scoring='neg_mean_squared_error')\n",
    "\n",
    "# Train the grid search object on the dataset\n",
    "grid_search.fit(train_x,train_y)\n",
    "\n",
    "# Print the best value of the max_features parameter and the corresponding mean cross-validation score\n",
    "print('Best max_features:', grid_search.best_params_['max_features'])\n",
    "print('Best value of n_estimators:', grid_search.best_params_['n_estimators'])\n",
    "\n",
    "best_model = grid_search.best_estimator_\n",
    "test_mse = mean_squared_error(test_y, best_model.predict(test_x))\n",
    "print('Test MSE:', test_mse)"
   ]
  },
  {
   "cell_type": "markdown",
   "metadata": {
    "id": "B_bzkrTw9nY1"
   },
   "source": [
    "In the experiment above, we use cross-validation to find the values for paramter **n_estimators**, which represents the total number of trees, and **max_features**, which represents the number of predictors that are sampled for each tree. The users could ues other model selection approaches to find the optimal parameters for their specific datasets or models. **max_features** = 'auto' means if training data we have is dense, then **max_features = sqrt(n_features)**. If training data is sparse, then **max_features=n_features**. We use **max_features = 20** for this experiment.  \n",
    "\n",
    "According to the output, if we use 200 trees, the test MSE for Random Forest is 13544.725, which is better than the performance of Adaboost from the previous section!"
   ]
  },
  {
   "cell_type": "markdown",
   "metadata": {
    "id": "Fyx3XQ0aQgyJ"
   },
   "source": [
    "**YOUR TURN!**\n",
    "\n",
    "We only tried three values for max_features. The users can try other numbers less than 20 as possible candidates for this parameter. See if the test MSE for Random Forest model can be even lower. "
   ]
  },
  {
   "cell_type": "code",
   "execution_count": null,
   "metadata": {
    "colab": {
     "base_uri": "https://localhost:8080/"
    },
    "id": "tO0TAVQFPRiW",
    "outputId": "2ddf9100-c84d-445f-b799-ecab2cf68782"
   },
   "outputs": [
    {
     "name": "stdout",
     "output_type": "stream",
     "text": [
      "You would like how many features selected at each split in the trees? 16\n",
      "Test Mean-Squared-Error for rf: 13747.68984093255\n"
     ]
    }
   ],
   "source": [
    "k = input('You would like how many features selected at each split in the trees? ')\n",
    "k = int(k)\n",
    "\n",
    "rf_yourturn = RandomForestRegressor(n_estimators=200, random_state=1,max_features=k)\n",
    "\n",
    "rf_yourturn.fit(train_x, train_y)\n",
    "\n",
    "# Make predictions on the test data\n",
    "y_pred = rf_yourturn.predict(test_x)\n",
    "\n",
    "# Compute the mean-squared-error between the predicted and true values\n",
    "mse = mean_squared_error(test_y, y_pred)\n",
    "print('Test Mean-Squared-Error for rf:', mse)"
   ]
  },
  {
   "cell_type": "markdown",
   "metadata": {
    "id": "PrqVj4ibRT9H"
   },
   "source": [
    "#### vi. Summary of The Random Forest Simulation"
   ]
  },
  {
   "cell_type": "markdown",
   "metadata": {
    "id": "HzTOCx2BnIez"
   },
   "source": [
    "Both Adaboost and Random Forest are ensemble learning algorithms that combine multiple weak learners like decision trees to construct a strong learner. We have trained Random Forest with five different types of data and compared its performance with decision trees and Adaboost. Here are the main takeaways: \n",
    "\n",
    "<br>\n",
    "\n",
    "When we have **simple data**, it is hard to conclude that Random Forest is always better than Decision Tree. If the users have simple data with noise and want some robust model, Random Forest might be a better choice. If the users want a more interpretable model that can provide clear explanations of the predictions, a decision tree model may be a better choice.\n",
    "\n",
    "When we have **large datasets with noise or outliers**, Random Forest performs better than Adaboost in our simulations. Random Forest is more robust and less sensitive to the individual errors like noise and outliers of the trees. Also considering the training time for a large dataset, Random Forest takes less time.\n",
    "\n",
    "When we have **clean data**, Random Forest and Adabost are both good choices. The choice of the better algorithm will depend on the specific characteristics of the dataset and the users' goals of the task.\n",
    "\n",
    "When we have **data with correlated predictors**, Random Forest outperforms again in our experiment. It decorrelates the trees by sampling subsets of all features for each split, thereby reducing the impact of correlated features on the overall predictions. AdaBoost trains each individual model sequentially, focusing on the errors made by the previous model. Therefore, Adaboost is more sensitive to the effects of correlated predictors.\n",
    "\n",
    "In the next section, we will try both methods with some real-world data and see how they performs."
   ]
  },
  {
   "cell_type": "markdown",
   "metadata": {
    "id": "3tDKvhVh6OJJ"
   },
   "source": [
    "## III. Real World Data Application\n",
    "\n",
    "In this tutorial, having practiced with the simulated data set using Adaboost and random forest, we will next apply what we have learned to a real world scenario. In this section, we will be using a real-world medical data set regarding cardiovascular, and see how each model performs on it. "
   ]
  },
  {
   "cell_type": "markdown",
   "metadata": {
    "id": "7ShtJCmv6xoe"
   },
   "source": [
    "1. First of all, let's import all libraries and packages needed for this task. "
   ]
  },
  {
   "cell_type": "code",
   "execution_count": null,
   "metadata": {
    "id": "dI6fRNDP6xop"
   },
   "outputs": [],
   "source": [
    "import pandas as pd\n",
    "import numpy as np\n",
    "import matplotlib.pyplot as plt\n",
    "import re\n",
    "\n",
    "import torch\n",
    "import torch.nn as nn\n",
    "from torch.nn import functional as F\n",
    "from torch.optim.lr_scheduler import _LRScheduler\n",
    "from torch.autograd import Variable\n",
    "from sklearn.model_selection import train_test_split\n",
    "from torch.utils.data import Dataset, DataLoader, TensorDataset, SubsetRandomSampler, ConcatDataset\n",
    "from tqdm import tqdm\n",
    "import os \n",
    "from sklearn.model_selection import cross_val_score, KFold\n",
    "from sklearn.preprocessing import MinMaxScaler, StandardScaler\n",
    "from sklearn.metrics import roc_auc_score\n",
    "from sklearn.metrics import balanced_accuracy_score\n",
    "from sklearn.metrics import accuracy_score,f1_score,precision_score,recall_score\n",
    "import sklearn.metrics as metrics\n",
    "from sklearn import ensemble\n",
    "from scipy import stats\n",
    "from sklearn.metrics import mean_squared_error\n",
    "\n",
    "import seaborn as sns\n",
    "from sklearn.tree import DecisionTreeClassifier\n",
    "from sklearn.ensemble import RandomForestClassifier, AdaBoostClassifier, AdaBoostRegressor\n",
    "from sklearn.pipeline import make_pipeline\n",
    "from sklearn.metrics import (\n",
    "    zero_one_loss, \n",
    "    confusion_matrix, \n",
    "    ConfusionMatrixDisplay, \n",
    "    classification_report\n",
    ")\n",
    "\n",
    "import warnings\n",
    "warnings.filterwarnings('ignore')"
   ]
  },
  {
   "cell_type": "markdown",
   "metadata": {
    "id": "4uD3aMEnAdRc"
   },
   "source": [
    "In order to import data set in Colab, we need to first upload the data set (\"cardio_train.csv\") onto the Google Drive (which I have done already), and then mount the Google Drive. The detailed instruction is shown below. "
   ]
  },
  {
   "cell_type": "code",
   "execution_count": null,
   "metadata": {
    "colab": {
     "base_uri": "https://localhost:8080/"
    },
    "id": "_ctpOjONAcTk",
    "outputId": "a1241ad9-d7fd-419b-b2c1-d0549df38f95"
   },
   "outputs": [
    {
     "name": "stdout",
     "output_type": "stream",
     "text": [
      "Mounted at /content/gdrive\n"
     ]
    }
   ],
   "source": [
    "from google.colab import drive\n",
    "\n",
    "drive.mount('/content/gdrive', force_remount=True)"
   ]
  },
  {
   "cell_type": "markdown",
   "metadata": {
    "id": "Pfl55fvYC1JF"
   },
   "source": [
    "Let's now check to see where the data set is, using the command \"cd\" (change directory) and \"ls\" (list all contents within a directory). "
   ]
  },
  {
   "cell_type": "code",
   "execution_count": null,
   "metadata": {
    "colab": {
     "base_uri": "https://localhost:8080/"
    },
    "id": "VztQ7ycHC1bM",
    "outputId": "b8b97607-ff47-49aa-ffe0-5343498ffae2"
   },
   "outputs": [
    {
     "name": "stdout",
     "output_type": "stream",
     "text": [
      "[Errno 2] No such file or directory: '/content/gdrive/MyDrive/Colab Notebooks'\n",
      "/content\n",
      "\u001b[0m\u001b[01;34mgdrive\u001b[0m/  \u001b[01;34msample_data\u001b[0m/\n"
     ]
    }
   ],
   "source": [
    "%cd /content/gdrive/MyDrive/Colab Notebooks\n",
    "\n",
    "%ls"
   ]
  },
  {
   "cell_type": "markdown",
   "metadata": {
    "id": "g3moeAGIEXRY"
   },
   "source": [
    "Yes, here it is, \"cardio_train.csv\". Now let's import it as below. "
   ]
  },
  {
   "cell_type": "code",
   "execution_count": null,
   "metadata": {
    "colab": {
     "base_uri": "https://localhost:8080/",
     "height": 374
    },
    "id": "RY0sYD2F6xoq",
    "outputId": "2602ec88-9ffb-44b4-d908-899bc7fd2e55"
   },
   "outputs": [
    {
     "ename": "FileNotFoundError",
     "evalue": "ignored",
     "output_type": "error",
     "traceback": [
      "\u001b[0;31m---------------------------------------------------------------------------\u001b[0m",
      "\u001b[0;31mFileNotFoundError\u001b[0m                         Traceback (most recent call last)",
      "\u001b[0;32m<ipython-input-5-15b6957d1702>\u001b[0m in \u001b[0;36m<module>\u001b[0;34m\u001b[0m\n\u001b[1;32m      1\u001b[0m \u001b[0;31m# load the data set\u001b[0m\u001b[0;34m\u001b[0m\u001b[0;34m\u001b[0m\u001b[0;34m\u001b[0m\u001b[0m\n\u001b[0;32m----> 2\u001b[0;31m \u001b[0mcardio_df\u001b[0m \u001b[0;34m=\u001b[0m \u001b[0mpd\u001b[0m\u001b[0;34m.\u001b[0m\u001b[0mread_csv\u001b[0m\u001b[0;34m(\u001b[0m\u001b[0;34m\"/content/gdrive/MyDrive/Colab Notebooks/cardio_train.csv\"\u001b[0m\u001b[0;34m,\u001b[0m \u001b[0msep\u001b[0m\u001b[0;34m=\u001b[0m\u001b[0;34m\";\"\u001b[0m\u001b[0;34m,\u001b[0m \u001b[0mindex_col\u001b[0m \u001b[0;34m=\u001b[0m \u001b[0;32mFalse\u001b[0m\u001b[0;34m)\u001b[0m\u001b[0;34m.\u001b[0m\u001b[0miloc\u001b[0m\u001b[0;34m[\u001b[0m\u001b[0;34m:\u001b[0m\u001b[0;34m,\u001b[0m \u001b[0;36m1\u001b[0m\u001b[0;34m:\u001b[0m\u001b[0;34m]\u001b[0m\u001b[0;34m\u001b[0m\u001b[0;34m\u001b[0m\u001b[0m\n\u001b[0m\u001b[1;32m      3\u001b[0m \u001b[0mcardio_df\u001b[0m\u001b[0;34m\u001b[0m\u001b[0;34m\u001b[0m\u001b[0m\n",
      "\u001b[0;32m/usr/local/lib/python3.8/dist-packages/pandas/util/_decorators.py\u001b[0m in \u001b[0;36mwrapper\u001b[0;34m(*args, **kwargs)\u001b[0m\n\u001b[1;32m    309\u001b[0m                     \u001b[0mstacklevel\u001b[0m\u001b[0;34m=\u001b[0m\u001b[0mstacklevel\u001b[0m\u001b[0;34m,\u001b[0m\u001b[0;34m\u001b[0m\u001b[0;34m\u001b[0m\u001b[0m\n\u001b[1;32m    310\u001b[0m                 )\n\u001b[0;32m--> 311\u001b[0;31m             \u001b[0;32mreturn\u001b[0m \u001b[0mfunc\u001b[0m\u001b[0;34m(\u001b[0m\u001b[0;34m*\u001b[0m\u001b[0margs\u001b[0m\u001b[0;34m,\u001b[0m \u001b[0;34m**\u001b[0m\u001b[0mkwargs\u001b[0m\u001b[0;34m)\u001b[0m\u001b[0;34m\u001b[0m\u001b[0;34m\u001b[0m\u001b[0m\n\u001b[0m\u001b[1;32m    312\u001b[0m \u001b[0;34m\u001b[0m\u001b[0m\n\u001b[1;32m    313\u001b[0m         \u001b[0;32mreturn\u001b[0m \u001b[0mwrapper\u001b[0m\u001b[0;34m\u001b[0m\u001b[0;34m\u001b[0m\u001b[0m\n",
      "\u001b[0;32m/usr/local/lib/python3.8/dist-packages/pandas/io/parsers/readers.py\u001b[0m in \u001b[0;36mread_csv\u001b[0;34m(filepath_or_buffer, sep, delimiter, header, names, index_col, usecols, squeeze, prefix, mangle_dupe_cols, dtype, engine, converters, true_values, false_values, skipinitialspace, skiprows, skipfooter, nrows, na_values, keep_default_na, na_filter, verbose, skip_blank_lines, parse_dates, infer_datetime_format, keep_date_col, date_parser, dayfirst, cache_dates, iterator, chunksize, compression, thousands, decimal, lineterminator, quotechar, quoting, doublequote, escapechar, comment, encoding, encoding_errors, dialect, error_bad_lines, warn_bad_lines, on_bad_lines, delim_whitespace, low_memory, memory_map, float_precision, storage_options)\u001b[0m\n\u001b[1;32m    584\u001b[0m     \u001b[0mkwds\u001b[0m\u001b[0;34m.\u001b[0m\u001b[0mupdate\u001b[0m\u001b[0;34m(\u001b[0m\u001b[0mkwds_defaults\u001b[0m\u001b[0;34m)\u001b[0m\u001b[0;34m\u001b[0m\u001b[0;34m\u001b[0m\u001b[0m\n\u001b[1;32m    585\u001b[0m \u001b[0;34m\u001b[0m\u001b[0m\n\u001b[0;32m--> 586\u001b[0;31m     \u001b[0;32mreturn\u001b[0m \u001b[0m_read\u001b[0m\u001b[0;34m(\u001b[0m\u001b[0mfilepath_or_buffer\u001b[0m\u001b[0;34m,\u001b[0m \u001b[0mkwds\u001b[0m\u001b[0;34m)\u001b[0m\u001b[0;34m\u001b[0m\u001b[0;34m\u001b[0m\u001b[0m\n\u001b[0m\u001b[1;32m    587\u001b[0m \u001b[0;34m\u001b[0m\u001b[0m\n\u001b[1;32m    588\u001b[0m \u001b[0;34m\u001b[0m\u001b[0m\n",
      "\u001b[0;32m/usr/local/lib/python3.8/dist-packages/pandas/io/parsers/readers.py\u001b[0m in \u001b[0;36m_read\u001b[0;34m(filepath_or_buffer, kwds)\u001b[0m\n\u001b[1;32m    480\u001b[0m \u001b[0;34m\u001b[0m\u001b[0m\n\u001b[1;32m    481\u001b[0m     \u001b[0;31m# Create the parser.\u001b[0m\u001b[0;34m\u001b[0m\u001b[0;34m\u001b[0m\u001b[0;34m\u001b[0m\u001b[0m\n\u001b[0;32m--> 482\u001b[0;31m     \u001b[0mparser\u001b[0m \u001b[0;34m=\u001b[0m \u001b[0mTextFileReader\u001b[0m\u001b[0;34m(\u001b[0m\u001b[0mfilepath_or_buffer\u001b[0m\u001b[0;34m,\u001b[0m \u001b[0;34m**\u001b[0m\u001b[0mkwds\u001b[0m\u001b[0;34m)\u001b[0m\u001b[0;34m\u001b[0m\u001b[0;34m\u001b[0m\u001b[0m\n\u001b[0m\u001b[1;32m    483\u001b[0m \u001b[0;34m\u001b[0m\u001b[0m\n\u001b[1;32m    484\u001b[0m     \u001b[0;32mif\u001b[0m \u001b[0mchunksize\u001b[0m \u001b[0;32mor\u001b[0m \u001b[0miterator\u001b[0m\u001b[0;34m:\u001b[0m\u001b[0;34m\u001b[0m\u001b[0;34m\u001b[0m\u001b[0m\n",
      "\u001b[0;32m/usr/local/lib/python3.8/dist-packages/pandas/io/parsers/readers.py\u001b[0m in \u001b[0;36m__init__\u001b[0;34m(self, f, engine, **kwds)\u001b[0m\n\u001b[1;32m    809\u001b[0m             \u001b[0mself\u001b[0m\u001b[0;34m.\u001b[0m\u001b[0moptions\u001b[0m\u001b[0;34m[\u001b[0m\u001b[0;34m\"has_index_names\"\u001b[0m\u001b[0;34m]\u001b[0m \u001b[0;34m=\u001b[0m \u001b[0mkwds\u001b[0m\u001b[0;34m[\u001b[0m\u001b[0;34m\"has_index_names\"\u001b[0m\u001b[0;34m]\u001b[0m\u001b[0;34m\u001b[0m\u001b[0;34m\u001b[0m\u001b[0m\n\u001b[1;32m    810\u001b[0m \u001b[0;34m\u001b[0m\u001b[0m\n\u001b[0;32m--> 811\u001b[0;31m         \u001b[0mself\u001b[0m\u001b[0;34m.\u001b[0m\u001b[0m_engine\u001b[0m \u001b[0;34m=\u001b[0m \u001b[0mself\u001b[0m\u001b[0;34m.\u001b[0m\u001b[0m_make_engine\u001b[0m\u001b[0;34m(\u001b[0m\u001b[0mself\u001b[0m\u001b[0;34m.\u001b[0m\u001b[0mengine\u001b[0m\u001b[0;34m)\u001b[0m\u001b[0;34m\u001b[0m\u001b[0;34m\u001b[0m\u001b[0m\n\u001b[0m\u001b[1;32m    812\u001b[0m \u001b[0;34m\u001b[0m\u001b[0m\n\u001b[1;32m    813\u001b[0m     \u001b[0;32mdef\u001b[0m \u001b[0mclose\u001b[0m\u001b[0;34m(\u001b[0m\u001b[0mself\u001b[0m\u001b[0;34m)\u001b[0m\u001b[0;34m:\u001b[0m\u001b[0;34m\u001b[0m\u001b[0;34m\u001b[0m\u001b[0m\n",
      "\u001b[0;32m/usr/local/lib/python3.8/dist-packages/pandas/io/parsers/readers.py\u001b[0m in \u001b[0;36m_make_engine\u001b[0;34m(self, engine)\u001b[0m\n\u001b[1;32m   1038\u001b[0m             )\n\u001b[1;32m   1039\u001b[0m         \u001b[0;31m# error: Too many arguments for \"ParserBase\"\u001b[0m\u001b[0;34m\u001b[0m\u001b[0;34m\u001b[0m\u001b[0;34m\u001b[0m\u001b[0m\n\u001b[0;32m-> 1040\u001b[0;31m         \u001b[0;32mreturn\u001b[0m \u001b[0mmapping\u001b[0m\u001b[0;34m[\u001b[0m\u001b[0mengine\u001b[0m\u001b[0;34m]\u001b[0m\u001b[0;34m(\u001b[0m\u001b[0mself\u001b[0m\u001b[0;34m.\u001b[0m\u001b[0mf\u001b[0m\u001b[0;34m,\u001b[0m \u001b[0;34m**\u001b[0m\u001b[0mself\u001b[0m\u001b[0;34m.\u001b[0m\u001b[0moptions\u001b[0m\u001b[0;34m)\u001b[0m  \u001b[0;31m# type: ignore[call-arg]\u001b[0m\u001b[0;34m\u001b[0m\u001b[0;34m\u001b[0m\u001b[0m\n\u001b[0m\u001b[1;32m   1041\u001b[0m \u001b[0;34m\u001b[0m\u001b[0m\n\u001b[1;32m   1042\u001b[0m     \u001b[0;32mdef\u001b[0m \u001b[0m_failover_to_python\u001b[0m\u001b[0;34m(\u001b[0m\u001b[0mself\u001b[0m\u001b[0;34m)\u001b[0m\u001b[0;34m:\u001b[0m\u001b[0;34m\u001b[0m\u001b[0;34m\u001b[0m\u001b[0m\n",
      "\u001b[0;32m/usr/local/lib/python3.8/dist-packages/pandas/io/parsers/c_parser_wrapper.py\u001b[0m in \u001b[0;36m__init__\u001b[0;34m(self, src, **kwds)\u001b[0m\n\u001b[1;32m     49\u001b[0m \u001b[0;34m\u001b[0m\u001b[0m\n\u001b[1;32m     50\u001b[0m         \u001b[0;31m# open handles\u001b[0m\u001b[0;34m\u001b[0m\u001b[0;34m\u001b[0m\u001b[0;34m\u001b[0m\u001b[0m\n\u001b[0;32m---> 51\u001b[0;31m         \u001b[0mself\u001b[0m\u001b[0;34m.\u001b[0m\u001b[0m_open_handles\u001b[0m\u001b[0;34m(\u001b[0m\u001b[0msrc\u001b[0m\u001b[0;34m,\u001b[0m \u001b[0mkwds\u001b[0m\u001b[0;34m)\u001b[0m\u001b[0;34m\u001b[0m\u001b[0;34m\u001b[0m\u001b[0m\n\u001b[0m\u001b[1;32m     52\u001b[0m         \u001b[0;32massert\u001b[0m \u001b[0mself\u001b[0m\u001b[0;34m.\u001b[0m\u001b[0mhandles\u001b[0m \u001b[0;32mis\u001b[0m \u001b[0;32mnot\u001b[0m \u001b[0;32mNone\u001b[0m\u001b[0;34m\u001b[0m\u001b[0;34m\u001b[0m\u001b[0m\n\u001b[1;32m     53\u001b[0m \u001b[0;34m\u001b[0m\u001b[0m\n",
      "\u001b[0;32m/usr/local/lib/python3.8/dist-packages/pandas/io/parsers/base_parser.py\u001b[0m in \u001b[0;36m_open_handles\u001b[0;34m(self, src, kwds)\u001b[0m\n\u001b[1;32m    220\u001b[0m         \u001b[0mLet\u001b[0m \u001b[0mthe\u001b[0m \u001b[0mreaders\u001b[0m \u001b[0mopen\u001b[0m \u001b[0mIOHandles\u001b[0m \u001b[0mafter\u001b[0m \u001b[0mthey\u001b[0m \u001b[0mare\u001b[0m \u001b[0mdone\u001b[0m \u001b[0;32mwith\u001b[0m \u001b[0mtheir\u001b[0m \u001b[0mpotential\u001b[0m \u001b[0mraises\u001b[0m\u001b[0;34m.\u001b[0m\u001b[0;34m\u001b[0m\u001b[0;34m\u001b[0m\u001b[0m\n\u001b[1;32m    221\u001b[0m         \"\"\"\n\u001b[0;32m--> 222\u001b[0;31m         self.handles = get_handle(\n\u001b[0m\u001b[1;32m    223\u001b[0m             \u001b[0msrc\u001b[0m\u001b[0;34m,\u001b[0m\u001b[0;34m\u001b[0m\u001b[0;34m\u001b[0m\u001b[0m\n\u001b[1;32m    224\u001b[0m             \u001b[0;34m\"r\"\u001b[0m\u001b[0;34m,\u001b[0m\u001b[0;34m\u001b[0m\u001b[0;34m\u001b[0m\u001b[0m\n",
      "\u001b[0;32m/usr/local/lib/python3.8/dist-packages/pandas/io/common.py\u001b[0m in \u001b[0;36mget_handle\u001b[0;34m(path_or_buf, mode, encoding, compression, memory_map, is_text, errors, storage_options)\u001b[0m\n\u001b[1;32m    700\u001b[0m         \u001b[0;32mif\u001b[0m \u001b[0mioargs\u001b[0m\u001b[0;34m.\u001b[0m\u001b[0mencoding\u001b[0m \u001b[0;32mand\u001b[0m \u001b[0;34m\"b\"\u001b[0m \u001b[0;32mnot\u001b[0m \u001b[0;32min\u001b[0m \u001b[0mioargs\u001b[0m\u001b[0;34m.\u001b[0m\u001b[0mmode\u001b[0m\u001b[0;34m:\u001b[0m\u001b[0;34m\u001b[0m\u001b[0;34m\u001b[0m\u001b[0m\n\u001b[1;32m    701\u001b[0m             \u001b[0;31m# Encoding\u001b[0m\u001b[0;34m\u001b[0m\u001b[0;34m\u001b[0m\u001b[0;34m\u001b[0m\u001b[0m\n\u001b[0;32m--> 702\u001b[0;31m             handle = open(\n\u001b[0m\u001b[1;32m    703\u001b[0m                 \u001b[0mhandle\u001b[0m\u001b[0;34m,\u001b[0m\u001b[0;34m\u001b[0m\u001b[0;34m\u001b[0m\u001b[0m\n\u001b[1;32m    704\u001b[0m                 \u001b[0mioargs\u001b[0m\u001b[0;34m.\u001b[0m\u001b[0mmode\u001b[0m\u001b[0;34m,\u001b[0m\u001b[0;34m\u001b[0m\u001b[0;34m\u001b[0m\u001b[0m\n",
      "\u001b[0;31mFileNotFoundError\u001b[0m: [Errno 2] No such file or directory: '/content/gdrive/MyDrive/Colab Notebooks/cardio_train.csv'"
     ]
    }
   ],
   "source": [
    "# load the data set\n",
    "cardio_df = pd.read_csv(\"/content/gdrive/MyDrive/Colab Notebooks/cardio_train.csv\", sep=\";\", index_col = False).iloc[:, 1:]\n",
    "cardio_df"
   ]
  },
  {
   "cell_type": "markdown",
   "metadata": {
    "id": "b820b5c3"
   },
   "source": [
    "### Data with Outliers\n",
    "\n",
    "First, let's use the raw data (with outliers) for training and see how each model performs. "
   ]
  },
  {
   "cell_type": "markdown",
   "metadata": {
    "id": "198e63d5"
   },
   "source": [
    "#### i. Exploratory Data Analysis\n",
    "\n",
    "Get some informative statistic results first that will help us get a glimpse into the data set. "
   ]
  },
  {
   "cell_type": "code",
   "execution_count": null,
   "metadata": {
    "colab": {
     "base_uri": "https://localhost:8080/",
     "height": 364
    },
    "id": "e7dac385",
    "outputId": "d0c6b213-cc2f-4068-ea26-7de8679a1803"
   },
   "outputs": [
    {
     "data": {
      "text/html": [
       "\n",
       "  <div id=\"df-671bb788-20d2-49d8-a7d5-d42da0a2f199\">\n",
       "    <div class=\"colab-df-container\">\n",
       "      <div>\n",
       "<style scoped>\n",
       "    .dataframe tbody tr th:only-of-type {\n",
       "        vertical-align: middle;\n",
       "    }\n",
       "\n",
       "    .dataframe tbody tr th {\n",
       "        vertical-align: top;\n",
       "    }\n",
       "\n",
       "    .dataframe thead th {\n",
       "        text-align: right;\n",
       "    }\n",
       "</style>\n",
       "<table border=\"1\" class=\"dataframe\">\n",
       "  <thead>\n",
       "    <tr style=\"text-align: right;\">\n",
       "      <th></th>\n",
       "      <th>age</th>\n",
       "      <th>gender</th>\n",
       "      <th>height</th>\n",
       "      <th>weight</th>\n",
       "      <th>ap_hi</th>\n",
       "      <th>ap_lo</th>\n",
       "      <th>cholesterol</th>\n",
       "      <th>gluc</th>\n",
       "      <th>smoke</th>\n",
       "      <th>alco</th>\n",
       "      <th>active</th>\n",
       "      <th>cardio</th>\n",
       "    </tr>\n",
       "  </thead>\n",
       "  <tbody>\n",
       "    <tr>\n",
       "      <th>count</th>\n",
       "      <td>70000.000000</td>\n",
       "      <td>70000.000000</td>\n",
       "      <td>70000.000000</td>\n",
       "      <td>70000.000000</td>\n",
       "      <td>70000.000000</td>\n",
       "      <td>70000.000000</td>\n",
       "      <td>70000.000000</td>\n",
       "      <td>70000.000000</td>\n",
       "      <td>70000.000000</td>\n",
       "      <td>70000.000000</td>\n",
       "      <td>70000.000000</td>\n",
       "      <td>70000.000000</td>\n",
       "    </tr>\n",
       "    <tr>\n",
       "      <th>mean</th>\n",
       "      <td>19468.865814</td>\n",
       "      <td>1.349571</td>\n",
       "      <td>164.359229</td>\n",
       "      <td>74.205690</td>\n",
       "      <td>128.817286</td>\n",
       "      <td>96.630414</td>\n",
       "      <td>1.366871</td>\n",
       "      <td>1.226457</td>\n",
       "      <td>0.088129</td>\n",
       "      <td>0.053771</td>\n",
       "      <td>0.803729</td>\n",
       "      <td>0.499700</td>\n",
       "    </tr>\n",
       "    <tr>\n",
       "      <th>std</th>\n",
       "      <td>2467.251667</td>\n",
       "      <td>0.476838</td>\n",
       "      <td>8.210126</td>\n",
       "      <td>14.395757</td>\n",
       "      <td>154.011419</td>\n",
       "      <td>188.472530</td>\n",
       "      <td>0.680250</td>\n",
       "      <td>0.572270</td>\n",
       "      <td>0.283484</td>\n",
       "      <td>0.225568</td>\n",
       "      <td>0.397179</td>\n",
       "      <td>0.500003</td>\n",
       "    </tr>\n",
       "    <tr>\n",
       "      <th>min</th>\n",
       "      <td>10798.000000</td>\n",
       "      <td>1.000000</td>\n",
       "      <td>55.000000</td>\n",
       "      <td>10.000000</td>\n",
       "      <td>-150.000000</td>\n",
       "      <td>-70.000000</td>\n",
       "      <td>1.000000</td>\n",
       "      <td>1.000000</td>\n",
       "      <td>0.000000</td>\n",
       "      <td>0.000000</td>\n",
       "      <td>0.000000</td>\n",
       "      <td>0.000000</td>\n",
       "    </tr>\n",
       "    <tr>\n",
       "      <th>25%</th>\n",
       "      <td>17664.000000</td>\n",
       "      <td>1.000000</td>\n",
       "      <td>159.000000</td>\n",
       "      <td>65.000000</td>\n",
       "      <td>120.000000</td>\n",
       "      <td>80.000000</td>\n",
       "      <td>1.000000</td>\n",
       "      <td>1.000000</td>\n",
       "      <td>0.000000</td>\n",
       "      <td>0.000000</td>\n",
       "      <td>1.000000</td>\n",
       "      <td>0.000000</td>\n",
       "    </tr>\n",
       "    <tr>\n",
       "      <th>50%</th>\n",
       "      <td>19703.000000</td>\n",
       "      <td>1.000000</td>\n",
       "      <td>165.000000</td>\n",
       "      <td>72.000000</td>\n",
       "      <td>120.000000</td>\n",
       "      <td>80.000000</td>\n",
       "      <td>1.000000</td>\n",
       "      <td>1.000000</td>\n",
       "      <td>0.000000</td>\n",
       "      <td>0.000000</td>\n",
       "      <td>1.000000</td>\n",
       "      <td>0.000000</td>\n",
       "    </tr>\n",
       "    <tr>\n",
       "      <th>75%</th>\n",
       "      <td>21327.000000</td>\n",
       "      <td>2.000000</td>\n",
       "      <td>170.000000</td>\n",
       "      <td>82.000000</td>\n",
       "      <td>140.000000</td>\n",
       "      <td>90.000000</td>\n",
       "      <td>2.000000</td>\n",
       "      <td>1.000000</td>\n",
       "      <td>0.000000</td>\n",
       "      <td>0.000000</td>\n",
       "      <td>1.000000</td>\n",
       "      <td>1.000000</td>\n",
       "    </tr>\n",
       "    <tr>\n",
       "      <th>max</th>\n",
       "      <td>23713.000000</td>\n",
       "      <td>2.000000</td>\n",
       "      <td>250.000000</td>\n",
       "      <td>200.000000</td>\n",
       "      <td>16020.000000</td>\n",
       "      <td>11000.000000</td>\n",
       "      <td>3.000000</td>\n",
       "      <td>3.000000</td>\n",
       "      <td>1.000000</td>\n",
       "      <td>1.000000</td>\n",
       "      <td>1.000000</td>\n",
       "      <td>1.000000</td>\n",
       "    </tr>\n",
       "  </tbody>\n",
       "</table>\n",
       "</div>\n",
       "      <button class=\"colab-df-convert\" onclick=\"convertToInteractive('df-671bb788-20d2-49d8-a7d5-d42da0a2f199')\"\n",
       "              title=\"Convert this dataframe to an interactive table.\"\n",
       "              style=\"display:none;\">\n",
       "        \n",
       "  <svg xmlns=\"http://www.w3.org/2000/svg\" height=\"24px\"viewBox=\"0 0 24 24\"\n",
       "       width=\"24px\">\n",
       "    <path d=\"M0 0h24v24H0V0z\" fill=\"none\"/>\n",
       "    <path d=\"M18.56 5.44l.94 2.06.94-2.06 2.06-.94-2.06-.94-.94-2.06-.94 2.06-2.06.94zm-11 1L8.5 8.5l.94-2.06 2.06-.94-2.06-.94L8.5 2.5l-.94 2.06-2.06.94zm10 10l.94 2.06.94-2.06 2.06-.94-2.06-.94-.94-2.06-.94 2.06-2.06.94z\"/><path d=\"M17.41 7.96l-1.37-1.37c-.4-.4-.92-.59-1.43-.59-.52 0-1.04.2-1.43.59L10.3 9.45l-7.72 7.72c-.78.78-.78 2.05 0 2.83L4 21.41c.39.39.9.59 1.41.59.51 0 1.02-.2 1.41-.59l7.78-7.78 2.81-2.81c.8-.78.8-2.07 0-2.86zM5.41 20L4 18.59l7.72-7.72 1.47 1.35L5.41 20z\"/>\n",
       "  </svg>\n",
       "      </button>\n",
       "      \n",
       "  <style>\n",
       "    .colab-df-container {\n",
       "      display:flex;\n",
       "      flex-wrap:wrap;\n",
       "      gap: 12px;\n",
       "    }\n",
       "\n",
       "    .colab-df-convert {\n",
       "      background-color: #E8F0FE;\n",
       "      border: none;\n",
       "      border-radius: 50%;\n",
       "      cursor: pointer;\n",
       "      display: none;\n",
       "      fill: #1967D2;\n",
       "      height: 32px;\n",
       "      padding: 0 0 0 0;\n",
       "      width: 32px;\n",
       "    }\n",
       "\n",
       "    .colab-df-convert:hover {\n",
       "      background-color: #E2EBFA;\n",
       "      box-shadow: 0px 1px 2px rgba(60, 64, 67, 0.3), 0px 1px 3px 1px rgba(60, 64, 67, 0.15);\n",
       "      fill: #174EA6;\n",
       "    }\n",
       "\n",
       "    [theme=dark] .colab-df-convert {\n",
       "      background-color: #3B4455;\n",
       "      fill: #D2E3FC;\n",
       "    }\n",
       "\n",
       "    [theme=dark] .colab-df-convert:hover {\n",
       "      background-color: #434B5C;\n",
       "      box-shadow: 0px 1px 3px 1px rgba(0, 0, 0, 0.15);\n",
       "      filter: drop-shadow(0px 1px 2px rgba(0, 0, 0, 0.3));\n",
       "      fill: #FFFFFF;\n",
       "    }\n",
       "  </style>\n",
       "\n",
       "      <script>\n",
       "        const buttonEl =\n",
       "          document.querySelector('#df-671bb788-20d2-49d8-a7d5-d42da0a2f199 button.colab-df-convert');\n",
       "        buttonEl.style.display =\n",
       "          google.colab.kernel.accessAllowed ? 'block' : 'none';\n",
       "\n",
       "        async function convertToInteractive(key) {\n",
       "          const element = document.querySelector('#df-671bb788-20d2-49d8-a7d5-d42da0a2f199');\n",
       "          const dataTable =\n",
       "            await google.colab.kernel.invokeFunction('convertToInteractive',\n",
       "                                                     [key], {});\n",
       "          if (!dataTable) return;\n",
       "\n",
       "          const docLinkHtml = 'Like what you see? Visit the ' +\n",
       "            '<a target=\"_blank\" href=https://colab.research.google.com/notebooks/data_table.ipynb>data table notebook</a>'\n",
       "            + ' to learn more about interactive tables.';\n",
       "          element.innerHTML = '';\n",
       "          dataTable['output_type'] = 'display_data';\n",
       "          await google.colab.output.renderOutput(dataTable, element);\n",
       "          const docLink = document.createElement('div');\n",
       "          docLink.innerHTML = docLinkHtml;\n",
       "          element.appendChild(docLink);\n",
       "        }\n",
       "      </script>\n",
       "    </div>\n",
       "  </div>\n",
       "  "
      ],
      "text/plain": [
       "                age        gender        height        weight         ap_hi  \\\n",
       "count  70000.000000  70000.000000  70000.000000  70000.000000  70000.000000   \n",
       "mean   19468.865814      1.349571    164.359229     74.205690    128.817286   \n",
       "std     2467.251667      0.476838      8.210126     14.395757    154.011419   \n",
       "min    10798.000000      1.000000     55.000000     10.000000   -150.000000   \n",
       "25%    17664.000000      1.000000    159.000000     65.000000    120.000000   \n",
       "50%    19703.000000      1.000000    165.000000     72.000000    120.000000   \n",
       "75%    21327.000000      2.000000    170.000000     82.000000    140.000000   \n",
       "max    23713.000000      2.000000    250.000000    200.000000  16020.000000   \n",
       "\n",
       "              ap_lo   cholesterol          gluc         smoke          alco  \\\n",
       "count  70000.000000  70000.000000  70000.000000  70000.000000  70000.000000   \n",
       "mean      96.630414      1.366871      1.226457      0.088129      0.053771   \n",
       "std      188.472530      0.680250      0.572270      0.283484      0.225568   \n",
       "min      -70.000000      1.000000      1.000000      0.000000      0.000000   \n",
       "25%       80.000000      1.000000      1.000000      0.000000      0.000000   \n",
       "50%       80.000000      1.000000      1.000000      0.000000      0.000000   \n",
       "75%       90.000000      2.000000      1.000000      0.000000      0.000000   \n",
       "max    11000.000000      3.000000      3.000000      1.000000      1.000000   \n",
       "\n",
       "             active        cardio  \n",
       "count  70000.000000  70000.000000  \n",
       "mean       0.803729      0.499700  \n",
       "std        0.397179      0.500003  \n",
       "min        0.000000      0.000000  \n",
       "25%        1.000000      0.000000  \n",
       "50%        1.000000      0.000000  \n",
       "75%        1.000000      1.000000  \n",
       "max        1.000000      1.000000  "
      ]
     },
     "execution_count": 87,
     "metadata": {},
     "output_type": "execute_result"
    }
   ],
   "source": [
    "cardio_df.describe()"
   ]
  },
  {
   "cell_type": "markdown",
   "metadata": {
    "id": "f7a7e570"
   },
   "source": [
    "#### ii. Correlation / Heatmap\n",
    "\n",
    "This will offer us some insight into the extent to which the features are correlated with each other. "
   ]
  },
  {
   "cell_type": "code",
   "execution_count": null,
   "metadata": {
    "colab": {
     "base_uri": "https://localhost:8080/",
     "height": 532
    },
    "id": "46f43508",
    "outputId": "d171c6b2-f8df-4f26-f690-db9c09e7cb89"
   },
   "outputs": [
    {
     "data": {
      "image/png": "[encoded data removed]",
      "text/plain": [
       "<Figure size 720x576 with 2 Axes>"
      ]
     },
     "metadata": {
      "needs_background": "light"
     },
     "output_type": "display_data"
    }
   ],
   "source": [
    "plt.figure(figsize=(10,8))\n",
    "\n",
    "cor = cardio_df.corr()\n",
    "sns.heatmap(cor, annot=True, cmap=plt.cm.Reds)\n",
    "plt.show()"
   ]
  },
  {
   "cell_type": "markdown",
   "metadata": {
    "id": "gwxSkyjY6xor"
   },
   "source": [
    "#### iii. Data Pre-processing\n",
    "\n",
    "Below we first get the X and y, which are data and labels, respectively. "
   ]
  },
  {
   "cell_type": "code",
   "execution_count": null,
   "metadata": {
    "colab": {
     "base_uri": "https://localhost:8080/"
    },
    "id": "X0PR3j6k6xor",
    "outputId": "4b4b3d05-3140-4cf5-fa70-01fd98eea2e1"
   },
   "outputs": [
    {
     "data": {
      "text/plain": [
       "((70000, 11), (70000, 1))"
      ]
     },
     "execution_count": 88,
     "metadata": {},
     "output_type": "execute_result"
    }
   ],
   "source": [
    "X = cardio_df.iloc[:, :-1]\n",
    "y = cardio_df.iloc[:, -1:].values\n",
    "\n",
    "X.shape, y.shape"
   ]
  },
  {
   "cell_type": "markdown",
   "metadata": {
    "id": "vIZLIC7pGdSs"
   },
   "source": [
    "Then perform the train-test split, as previously. "
   ]
  },
  {
   "cell_type": "code",
   "execution_count": null,
   "metadata": {
    "colab": {
     "base_uri": "https://localhost:8080/"
    },
    "id": "e1WKWwfS6xor",
    "outputId": "73bb5e99-51c7-4a67-f432-8e266c7d1372"
   },
   "outputs": [
    {
     "name": "stdout",
     "output_type": "stream",
     "text": [
      "Training set shape: (56000, 11)\n",
      "Validation set shape: (14000, 11)\n"
     ]
    }
   ],
   "source": [
    "X_train, X_val, y_train, y_val = train_test_split(X, y, test_size = 0.2, random_state = 12, stratify = y)\n",
    "\n",
    "print(f'Training set shape: {X_train.shape}')\n",
    "print(f'Validation set shape: {X_val.shape}')"
   ]
  },
  {
   "cell_type": "code",
   "execution_count": null,
   "metadata": {
    "id": "rcMqwIDw6xor"
   },
   "outputs": [],
   "source": [
    "columns = ['age', 'height', 'weight', 'ap_hi', 'ap_lo']         # columns with numerical value type\n",
    "\n",
    "scaler = MinMaxScaler().fit(X_train[columns])\n",
    "X_train[columns] = scaler.transform(X_train[columns])\n",
    "X_val[columns] = scaler.transform(X_val[columns])"
   ]
  },
  {
   "cell_type": "markdown",
   "metadata": {
    "id": "tXfMg9Vo6xor"
   },
   "source": [
    "#### iv. Model Training (Adaboost)"
   ]
  },
  {
   "cell_type": "markdown",
   "metadata": {
    "id": "iu-07vvpGzQd"
   },
   "source": [
    "First define a function for plotting predictive accuracy. As you will see soon, this function will be called and used later. "
   ]
  },
  {
   "cell_type": "code",
   "execution_count": null,
   "metadata": {
    "id": "EX6evOhi6xos"
   },
   "outputs": [],
   "source": [
    "def plot_model(feature):\n",
    "    plt.figure(figsize = (8, 5))\n",
    "    plt.plot(df[feature], df['Training Accuracy'], label = 'Training Accuracy')\n",
    "    plt.plot(df[feature], df['Validation Accuracy'], label = 'Validation Accuracy')\n",
    "    plt.xlabel(feature)\n",
    "    plt.ylabel('Accuracy')\n",
    "    plt.legend()"
   ]
  },
  {
   "cell_type": "markdown",
   "metadata": {
    "id": "P0Pi0Nzt6xos"
   },
   "source": [
    "##### **Step 1: Tuning The AdaBoost Classifier**\n",
    "\n",
    "For illustrative purpose, here we only tune the number of Decision Tree models used for iterative training (i.e., n_estimators). We give a range of values from 1 to 500 for this parameter and see how it performs as the number of decision-tree models used in training increases. "
   ]
  },
  {
   "cell_type": "code",
   "execution_count": null,
   "metadata": {
    "colab": {
     "base_uri": "https://localhost:8080/",
     "height": 334
    },
    "id": "_pEE7GnA6xos",
    "outputId": "4c2fcce9-37de-469f-bd7e-dd9e0927b10c"
   },
   "outputs": [
    {
     "data": {
      "image/png": "[encoded data removed]",
      "text/plain": [
       "<Figure size 576x360 with 1 Axes>"
      ]
     },
     "metadata": {
      "needs_background": "light"
     },
     "output_type": "display_data"
    }
   ],
   "source": [
    "def tune_adaboost(target_feature_value, **params):\n",
    "    boost_model = AdaBoostClassifier(**params).fit(X_train, y_train)\n",
    "    train_pred = boost_model.predict(X_train)\n",
    "    train_accuracy = accuracy_score(y_train, train_pred)\n",
    "\n",
    "    val_pred = boost_model.predict(X_val)\n",
    "    val_accuracy = accuracy_score(y_val, val_pred)\n",
    "\n",
    "    return target_feature_value, train_accuracy, val_accuracy\n",
    "\n",
    "\n",
    "# Exploring the n_estimators\n",
    "trees = np.arange(1,501,50)      \n",
    "df = pd.DataFrame([tune_adaboost(target_feature_value = i,\n",
    "                                 base_estimator = None,\n",
    "                                 n_estimators = i,\n",
    "                                 learning_rate = 0.6, \n",
    "                                 random_state = 12) for i in trees], \n",
    "                  columns = ['Maximum Number of Trees', 'Training Accuracy', 'Validation Accuracy'])\n",
    "\n",
    "plot_model('Maximum Number of Trees')"
   ]
  },
  {
   "cell_type": "markdown",
   "metadata": {
    "id": "3w-ZL9ZdItJx"
   },
   "source": [
    "As you can see from the plot above, the validation accuracy appears to be the highest when the max number of trees is around 200. Hence, in the next part, we will set n_estimators = 200. "
   ]
  },
  {
   "cell_type": "markdown",
   "metadata": {
    "id": "KkYFxfXy6xos"
   },
   "source": [
    "##### **Step 2: Pass in The Optimal Parameter Values**"
   ]
  },
  {
   "cell_type": "code",
   "execution_count": null,
   "metadata": {
    "colab": {
     "base_uri": "https://localhost:8080/"
    },
    "id": "UdFgojpu6xot",
    "outputId": "384f0f25-8e65-4c22-ab2c-d32b3ac2e180"
   },
   "outputs": [
    {
     "name": "stdout",
     "output_type": "stream",
     "text": [
      "Training Score:0.731750\n",
      "Testing Score:0.732143\n"
     ]
    }
   ],
   "source": [
    "# Creating classifier \n",
    "ada = ensemble.AdaBoostClassifier(base_estimator = None,\n",
    "                                 n_estimators = 200,\n",
    "                                 learning_rate = 0.6,\n",
    "                                 random_state = 12)           \n",
    "\n",
    "#Fitting the classifier to training data\n",
    "ada.fit(X_train,y_train)\n",
    "\n",
    "# Making Predictions\n",
    "ada_pred = ada.predict(X_val)\n",
    "\n",
    "print(\"Training Score:%f\"%ada.score(X_train,y_train))\n",
    "print(\"Testing Score:%f\"%ada.score(X_val,y_val))"
   ]
  },
  {
   "cell_type": "markdown",
   "metadata": {
    "id": "Q-B3ziW2J7Zi"
   },
   "source": [
    "Okay, not bad - the Adaboost model achieved a test score of 0.732143 on the data set with outliers. "
   ]
  },
  {
   "cell_type": "code",
   "execution_count": null,
   "metadata": {
    "colab": {
     "base_uri": "https://localhost:8080/"
    },
    "id": "PXyk4lAA6xou",
    "outputId": "9962e6b2-21f5-4782-bf2f-04ffacd84273"
   },
   "outputs": [
    {
     "name": "stdout",
     "output_type": "stream",
     "text": [
      "              precision    recall  f1-score   support\n",
      "\n",
      "           0       0.70      0.81      0.75      7004\n",
      "           1       0.77      0.66      0.71      6996\n",
      "\n",
      "    accuracy                           0.73     14000\n",
      "   macro avg       0.74      0.73      0.73     14000\n",
      "weighted avg       0.74      0.73      0.73     14000\n",
      "\n"
     ]
    }
   ],
   "source": [
    "print(classification_report(y_val, ada_pred))"
   ]
  },
  {
   "cell_type": "markdown",
   "metadata": {
    "id": "8U4hlHEy6xou"
   },
   "source": [
    "#### v. Model Training (Random Forest)"
   ]
  },
  {
   "cell_type": "markdown",
   "metadata": {
    "id": "3d2ec787"
   },
   "source": [
    "##### Step 1: Tuning the Random Forest Classifier\n",
    "\n",
    "Having tuned the Adaboost model before, now let's try tuning the random forest model below. In this case, for simplicity, we will only tune the max_depth parameter, while leaving others unchanged (i.e., max_samples=0.6, max_features = 'sqrt', criterion=\"gini\", etc). Regarding the max_depth parameter, we will explore a range of values from 1 to 12 and see how the model accuracy varies. "
   ]
  },
  {
   "cell_type": "code",
   "execution_count": null,
   "metadata": {
    "colab": {
     "base_uri": "https://localhost:8080/",
     "height": 334
    },
    "id": "avMWo1YU6xou",
    "outputId": "9342a8f3-9b91-4a66-afdc-8abb4f84e3a9"
   },
   "outputs": [
    {
     "data": {
      "image/png": "[encoded data removed]",
      "text/plain": [
       "<Figure size 576x360 with 1 Axes>"
      ]
     },
     "metadata": {
      "needs_background": "light"
     },
     "output_type": "display_data"
    }
   ],
   "source": [
    "def tune_random_forest(target_feature_value, **params):\n",
    "    rf_model = RandomForestClassifier(**params).fit(X_train, y_train)\n",
    "    train_pred = rf_model.predict(X_train)\n",
    "    train_accuracy = accuracy_score(y_train, train_pred)\n",
    "\n",
    "    val_pred = rf_model.predict(X_val)\n",
    "    val_accuracy = accuracy_score(y_val, val_pred)\n",
    "\n",
    "    return target_feature_value, train_accuracy, val_accuracy\n",
    "\n",
    "\n",
    "# Exploring the number of samples\n",
    "df = pd.DataFrame([tune_random_forest(target_feature_value = i,\n",
    "                                      criterion = 'gini',\n",
    "                                      max_depth = i,\n",
    "                                      max_features = 'sqrt',\n",
    "                                      max_samples = 0.6,\n",
    "                                      random_state = 12) for i in np.arange(1, 13, 1)], \n",
    "                  columns = ['Maximum Samples', 'Training Accuracy', 'Validation Accuracy'])\n",
    "\n",
    "plot_model('Maximum Samples')"
   ]
  },
  {
   "cell_type": "markdown",
   "metadata": {
    "id": "B_heZeY4MgWS"
   },
   "source": [
    "As shown above, the optimal max_depth value appears to be around 10, which we will use for the next step below. "
   ]
  },
  {
   "cell_type": "markdown",
   "metadata": {
    "id": "kMgK04JF6xov"
   },
   "source": [
    "##### **Step 2: Pass in The Optimal Parameter Values**"
   ]
  },
  {
   "cell_type": "code",
   "execution_count": null,
   "metadata": {
    "colab": {
     "base_uri": "https://localhost:8080/"
    },
    "id": "oZVDqXfm6xov",
    "outputId": "492d06f1-3aa3-47a4-ba38-e7c22c1278cd"
   },
   "outputs": [
    {
     "name": "stdout",
     "output_type": "stream",
     "text": [
      "Traing Score:0.753732\n",
      "Testing Score:0.737286\n"
     ]
    }
   ],
   "source": [
    "# Initializing Classifier \n",
    "rf = ensemble.RandomForestClassifier(criterion = 'gini',\n",
    "                                      max_depth = 10,\n",
    "                                      max_features = 'sqrt',\n",
    "                                      max_samples = 0.6,\n",
    "                                      random_state = 12)\n",
    "\n",
    "# Fitting the classifier to training data\n",
    "rf.fit(X_train,y_train)\n",
    "\n",
    "# Making Predictions\n",
    "rf_pred = rf.predict(X_val)\n",
    "\n",
    "print(\"Traing Score:%f\"%rf.score(X_train,y_train))\n",
    "print(\"Testing Score:%f\"%rf.score(X_val,y_val))"
   ]
  },
  {
   "cell_type": "code",
   "execution_count": null,
   "metadata": {
    "colab": {
     "base_uri": "https://localhost:8080/"
    },
    "id": "LCbj3M5Y6xov",
    "outputId": "9881d8d9-a4f2-4c53-a5f7-2f72b2263ae3"
   },
   "outputs": [
    {
     "name": "stdout",
     "output_type": "stream",
     "text": [
      "              precision    recall  f1-score   support\n",
      "\n",
      "           0       0.71      0.79      0.75      7004\n",
      "           1       0.77      0.68      0.72      6996\n",
      "\n",
      "    accuracy                           0.74     14000\n",
      "   macro avg       0.74      0.74      0.74     14000\n",
      "weighted avg       0.74      0.74      0.74     14000\n",
      "\n"
     ]
    }
   ],
   "source": [
    "print(classification_report(y_val,rf_pred))"
   ]
  },
  {
   "cell_type": "markdown",
   "metadata": {
    "id": "IUtoJrt8VVvT"
   },
   "source": [
    "#### vi. Summary for Adaboost and Random Forest on data with outliers. \n",
    "\n",
    "As you can see, compared to Adaboost's prediction, the random forest prediction obtained a higher validation accuracy score (0.737286 v.s. 0.732143 from Adaboost).\n",
    "\n",
    "This result is reasonable, since from the previous tutorial, we have learned that Adaboost tends to perform less well on data set with outliers (i.e. noises). On the other hand, random forest is more resistant to noises in data set."
   ]
  },
  {
   "cell_type": "markdown",
   "metadata": {
    "id": "481ed8e0"
   },
   "source": [
    "### Data without Outliers\n",
    "\n",
    "Well, random forest model beats Adaboost in the noisy data set, but will this continue to be the case for data without outliers? Let's see ! "
   ]
  },
  {
   "cell_type": "markdown",
   "metadata": {
    "id": "69b928c4"
   },
   "source": [
    "#### i. Exploratory Data Analysis\n",
    "\n",
    "Here, we filter out the outlier points that have z-score greater than 3 (after taking the absolute value).  "
   ]
  },
  {
   "cell_type": "code",
   "execution_count": null,
   "metadata": {
    "colab": {
     "base_uri": "https://localhost:8080/",
     "height": 424
    },
    "id": "0dfe207f",
    "outputId": "9a17587e-28a0-4bad-be37-af1b68f5f20a"
   },
   "outputs": [
    {
     "data": {
      "text/html": [
       "\n",
       "  <div id=\"df-d3c3a08f-85d1-4cb9-823b-a70996216162\">\n",
       "    <div class=\"colab-df-container\">\n",
       "      <div>\n",
       "<style scoped>\n",
       "    .dataframe tbody tr th:only-of-type {\n",
       "        vertical-align: middle;\n",
       "    }\n",
       "\n",
       "    .dataframe tbody tr th {\n",
       "        vertical-align: top;\n",
       "    }\n",
       "\n",
       "    .dataframe thead th {\n",
       "        text-align: right;\n",
       "    }\n",
       "</style>\n",
       "<table border=\"1\" class=\"dataframe\">\n",
       "  <thead>\n",
       "    <tr style=\"text-align: right;\">\n",
       "      <th></th>\n",
       "      <th>age</th>\n",
       "      <th>gender</th>\n",
       "      <th>height</th>\n",
       "      <th>weight</th>\n",
       "      <th>ap_hi</th>\n",
       "      <th>ap_lo</th>\n",
       "      <th>cholesterol</th>\n",
       "      <th>gluc</th>\n",
       "      <th>smoke</th>\n",
       "      <th>alco</th>\n",
       "      <th>active</th>\n",
       "      <th>cardio</th>\n",
       "    </tr>\n",
       "  </thead>\n",
       "  <tbody>\n",
       "    <tr>\n",
       "      <th>0</th>\n",
       "      <td>18393</td>\n",
       "      <td>2</td>\n",
       "      <td>168</td>\n",
       "      <td>62.0</td>\n",
       "      <td>110</td>\n",
       "      <td>80</td>\n",
       "      <td>1</td>\n",
       "      <td>1</td>\n",
       "      <td>0</td>\n",
       "      <td>0</td>\n",
       "      <td>1</td>\n",
       "      <td>0</td>\n",
       "    </tr>\n",
       "    <tr>\n",
       "      <th>1</th>\n",
       "      <td>20228</td>\n",
       "      <td>1</td>\n",
       "      <td>156</td>\n",
       "      <td>85.0</td>\n",
       "      <td>140</td>\n",
       "      <td>90</td>\n",
       "      <td>3</td>\n",
       "      <td>1</td>\n",
       "      <td>0</td>\n",
       "      <td>0</td>\n",
       "      <td>1</td>\n",
       "      <td>1</td>\n",
       "    </tr>\n",
       "    <tr>\n",
       "      <th>2</th>\n",
       "      <td>18857</td>\n",
       "      <td>1</td>\n",
       "      <td>165</td>\n",
       "      <td>64.0</td>\n",
       "      <td>130</td>\n",
       "      <td>70</td>\n",
       "      <td>3</td>\n",
       "      <td>1</td>\n",
       "      <td>0</td>\n",
       "      <td>0</td>\n",
       "      <td>0</td>\n",
       "      <td>1</td>\n",
       "    </tr>\n",
       "    <tr>\n",
       "      <th>3</th>\n",
       "      <td>17623</td>\n",
       "      <td>2</td>\n",
       "      <td>169</td>\n",
       "      <td>82.0</td>\n",
       "      <td>150</td>\n",
       "      <td>100</td>\n",
       "      <td>1</td>\n",
       "      <td>1</td>\n",
       "      <td>0</td>\n",
       "      <td>0</td>\n",
       "      <td>1</td>\n",
       "      <td>1</td>\n",
       "    </tr>\n",
       "    <tr>\n",
       "      <th>4</th>\n",
       "      <td>17474</td>\n",
       "      <td>1</td>\n",
       "      <td>156</td>\n",
       "      <td>56.0</td>\n",
       "      <td>100</td>\n",
       "      <td>60</td>\n",
       "      <td>1</td>\n",
       "      <td>1</td>\n",
       "      <td>0</td>\n",
       "      <td>0</td>\n",
       "      <td>0</td>\n",
       "      <td>0</td>\n",
       "    </tr>\n",
       "    <tr>\n",
       "      <th>...</th>\n",
       "      <td>...</td>\n",
       "      <td>...</td>\n",
       "      <td>...</td>\n",
       "      <td>...</td>\n",
       "      <td>...</td>\n",
       "      <td>...</td>\n",
       "      <td>...</td>\n",
       "      <td>...</td>\n",
       "      <td>...</td>\n",
       "      <td>...</td>\n",
       "      <td>...</td>\n",
       "      <td>...</td>\n",
       "    </tr>\n",
       "    <tr>\n",
       "      <th>69992</th>\n",
       "      <td>18792</td>\n",
       "      <td>1</td>\n",
       "      <td>161</td>\n",
       "      <td>56.0</td>\n",
       "      <td>170</td>\n",
       "      <td>90</td>\n",
       "      <td>1</td>\n",
       "      <td>1</td>\n",
       "      <td>0</td>\n",
       "      <td>0</td>\n",
       "      <td>1</td>\n",
       "      <td>1</td>\n",
       "    </tr>\n",
       "    <tr>\n",
       "      <th>69993</th>\n",
       "      <td>19699</td>\n",
       "      <td>1</td>\n",
       "      <td>172</td>\n",
       "      <td>70.0</td>\n",
       "      <td>130</td>\n",
       "      <td>90</td>\n",
       "      <td>1</td>\n",
       "      <td>1</td>\n",
       "      <td>0</td>\n",
       "      <td>0</td>\n",
       "      <td>1</td>\n",
       "      <td>1</td>\n",
       "    </tr>\n",
       "    <tr>\n",
       "      <th>69994</th>\n",
       "      <td>21074</td>\n",
       "      <td>1</td>\n",
       "      <td>165</td>\n",
       "      <td>80.0</td>\n",
       "      <td>150</td>\n",
       "      <td>80</td>\n",
       "      <td>1</td>\n",
       "      <td>1</td>\n",
       "      <td>0</td>\n",
       "      <td>0</td>\n",
       "      <td>1</td>\n",
       "      <td>1</td>\n",
       "    </tr>\n",
       "    <tr>\n",
       "      <th>69998</th>\n",
       "      <td>22431</td>\n",
       "      <td>1</td>\n",
       "      <td>163</td>\n",
       "      <td>72.0</td>\n",
       "      <td>135</td>\n",
       "      <td>80</td>\n",
       "      <td>1</td>\n",
       "      <td>2</td>\n",
       "      <td>0</td>\n",
       "      <td>0</td>\n",
       "      <td>0</td>\n",
       "      <td>1</td>\n",
       "    </tr>\n",
       "    <tr>\n",
       "      <th>69999</th>\n",
       "      <td>20540</td>\n",
       "      <td>1</td>\n",
       "      <td>170</td>\n",
       "      <td>72.0</td>\n",
       "      <td>120</td>\n",
       "      <td>80</td>\n",
       "      <td>2</td>\n",
       "      <td>1</td>\n",
       "      <td>0</td>\n",
       "      <td>0</td>\n",
       "      <td>1</td>\n",
       "      <td>0</td>\n",
       "    </tr>\n",
       "  </tbody>\n",
       "</table>\n",
       "<p>55699 rows × 12 columns</p>\n",
       "</div>\n",
       "      <button class=\"colab-df-convert\" onclick=\"convertToInteractive('df-d3c3a08f-85d1-4cb9-823b-a70996216162')\"\n",
       "              title=\"Convert this dataframe to an interactive table.\"\n",
       "              style=\"display:none;\">\n",
       "        \n",
       "  <svg xmlns=\"http://www.w3.org/2000/svg\" height=\"24px\"viewBox=\"0 0 24 24\"\n",
       "       width=\"24px\">\n",
       "    <path d=\"M0 0h24v24H0V0z\" fill=\"none\"/>\n",
       "    <path d=\"M18.56 5.44l.94 2.06.94-2.06 2.06-.94-2.06-.94-.94-2.06-.94 2.06-2.06.94zm-11 1L8.5 8.5l.94-2.06 2.06-.94-2.06-.94L8.5 2.5l-.94 2.06-2.06.94zm10 10l.94 2.06.94-2.06 2.06-.94-2.06-.94-.94-2.06-.94 2.06-2.06.94z\"/><path d=\"M17.41 7.96l-1.37-1.37c-.4-.4-.92-.59-1.43-.59-.52 0-1.04.2-1.43.59L10.3 9.45l-7.72 7.72c-.78.78-.78 2.05 0 2.83L4 21.41c.39.39.9.59 1.41.59.51 0 1.02-.2 1.41-.59l7.78-7.78 2.81-2.81c.8-.78.8-2.07 0-2.86zM5.41 20L4 18.59l7.72-7.72 1.47 1.35L5.41 20z\"/>\n",
       "  </svg>\n",
       "      </button>\n",
       "      \n",
       "  <style>\n",
       "    .colab-df-container {\n",
       "      display:flex;\n",
       "      flex-wrap:wrap;\n",
       "      gap: 12px;\n",
       "    }\n",
       "\n",
       "    .colab-df-convert {\n",
       "      background-color: #E8F0FE;\n",
       "      border: none;\n",
       "      border-radius: 50%;\n",
       "      cursor: pointer;\n",
       "      display: none;\n",
       "      fill: #1967D2;\n",
       "      height: 32px;\n",
       "      padding: 0 0 0 0;\n",
       "      width: 32px;\n",
       "    }\n",
       "\n",
       "    .colab-df-convert:hover {\n",
       "      background-color: #E2EBFA;\n",
       "      box-shadow: 0px 1px 2px rgba(60, 64, 67, 0.3), 0px 1px 3px 1px rgba(60, 64, 67, 0.15);\n",
       "      fill: #174EA6;\n",
       "    }\n",
       "\n",
       "    [theme=dark] .colab-df-convert {\n",
       "      background-color: #3B4455;\n",
       "      fill: #D2E3FC;\n",
       "    }\n",
       "\n",
       "    [theme=dark] .colab-df-convert:hover {\n",
       "      background-color: #434B5C;\n",
       "      box-shadow: 0px 1px 3px 1px rgba(0, 0, 0, 0.15);\n",
       "      filter: drop-shadow(0px 1px 2px rgba(0, 0, 0, 0.3));\n",
       "      fill: #FFFFFF;\n",
       "    }\n",
       "  </style>\n",
       "\n",
       "      <script>\n",
       "        const buttonEl =\n",
       "          document.querySelector('#df-d3c3a08f-85d1-4cb9-823b-a70996216162 button.colab-df-convert');\n",
       "        buttonEl.style.display =\n",
       "          google.colab.kernel.accessAllowed ? 'block' : 'none';\n",
       "\n",
       "        async function convertToInteractive(key) {\n",
       "          const element = document.querySelector('#df-d3c3a08f-85d1-4cb9-823b-a70996216162');\n",
       "          const dataTable =\n",
       "            await google.colab.kernel.invokeFunction('convertToInteractive',\n",
       "                                                     [key], {});\n",
       "          if (!dataTable) return;\n",
       "\n",
       "          const docLinkHtml = 'Like what you see? Visit the ' +\n",
       "            '<a target=\"_blank\" href=https://colab.research.google.com/notebooks/data_table.ipynb>data table notebook</a>'\n",
       "            + ' to learn more about interactive tables.';\n",
       "          element.innerHTML = '';\n",
       "          dataTable['output_type'] = 'display_data';\n",
       "          await google.colab.output.renderOutput(dataTable, element);\n",
       "          const docLink = document.createElement('div');\n",
       "          docLink.innerHTML = docLinkHtml;\n",
       "          element.appendChild(docLink);\n",
       "        }\n",
       "      </script>\n",
       "    </div>\n",
       "  </div>\n",
       "  "
      ],
      "text/plain": [
       "         age  gender  height  weight  ap_hi  ap_lo  cholesterol  gluc  smoke  \\\n",
       "0      18393       2     168    62.0    110     80            1     1      0   \n",
       "1      20228       1     156    85.0    140     90            3     1      0   \n",
       "2      18857       1     165    64.0    130     70            3     1      0   \n",
       "3      17623       2     169    82.0    150    100            1     1      0   \n",
       "4      17474       1     156    56.0    100     60            1     1      0   \n",
       "...      ...     ...     ...     ...    ...    ...          ...   ...    ...   \n",
       "69992  18792       1     161    56.0    170     90            1     1      0   \n",
       "69993  19699       1     172    70.0    130     90            1     1      0   \n",
       "69994  21074       1     165    80.0    150     80            1     1      0   \n",
       "69998  22431       1     163    72.0    135     80            1     2      0   \n",
       "69999  20540       1     170    72.0    120     80            2     1      0   \n",
       "\n",
       "       alco  active  cardio  \n",
       "0         0       1       0  \n",
       "1         0       1       1  \n",
       "2         0       0       1  \n",
       "3         0       1       1  \n",
       "4         0       0       0  \n",
       "...     ...     ...     ...  \n",
       "69992     0       1       1  \n",
       "69993     0       1       1  \n",
       "69994     0       1       1  \n",
       "69998     0       0       1  \n",
       "69999     0       1       0  \n",
       "\n",
       "[55699 rows x 12 columns]"
      ]
     },
     "execution_count": 104,
     "metadata": {},
     "output_type": "execute_result"
    }
   ],
   "source": [
    "# A data point can be considered unusual if its z-score is above 3 or below −3 .\n",
    "filtered_df = cardio_df[(np.abs(stats.zscore(cardio_df)) < 3).all(axis=1)]\n",
    "filtered_df"
   ]
  },
  {
   "cell_type": "code",
   "execution_count": null,
   "metadata": {
    "colab": {
     "base_uri": "https://localhost:8080/",
     "height": 364
    },
    "id": "ea7df0e4",
    "outputId": "7df6a4b5-3911-438b-afc6-40d15534f301"
   },
   "outputs": [
    {
     "data": {
      "text/html": [
       "\n",
       "  <div id=\"df-05fef139-0497-4650-a56a-518b4db04608\">\n",
       "    <div class=\"colab-df-container\">\n",
       "      <div>\n",
       "<style scoped>\n",
       "    .dataframe tbody tr th:only-of-type {\n",
       "        vertical-align: middle;\n",
       "    }\n",
       "\n",
       "    .dataframe tbody tr th {\n",
       "        vertical-align: top;\n",
       "    }\n",
       "\n",
       "    .dataframe thead th {\n",
       "        text-align: right;\n",
       "    }\n",
       "</style>\n",
       "<table border=\"1\" class=\"dataframe\">\n",
       "  <thead>\n",
       "    <tr style=\"text-align: right;\">\n",
       "      <th></th>\n",
       "      <th>age</th>\n",
       "      <th>gender</th>\n",
       "      <th>height</th>\n",
       "      <th>weight</th>\n",
       "      <th>ap_hi</th>\n",
       "      <th>ap_lo</th>\n",
       "      <th>cholesterol</th>\n",
       "      <th>gluc</th>\n",
       "      <th>smoke</th>\n",
       "      <th>alco</th>\n",
       "      <th>active</th>\n",
       "      <th>cardio</th>\n",
       "    </tr>\n",
       "  </thead>\n",
       "  <tbody>\n",
       "    <tr>\n",
       "      <th>count</th>\n",
       "      <td>55699.000000</td>\n",
       "      <td>55699.000000</td>\n",
       "      <td>55699.000000</td>\n",
       "      <td>55699.000000</td>\n",
       "      <td>55699.000000</td>\n",
       "      <td>55699.000000</td>\n",
       "      <td>55699.000000</td>\n",
       "      <td>55699.000000</td>\n",
       "      <td>55699.0</td>\n",
       "      <td>55699.0</td>\n",
       "      <td>55699.000000</td>\n",
       "      <td>55699.000000</td>\n",
       "    </tr>\n",
       "    <tr>\n",
       "      <th>mean</th>\n",
       "      <td>19438.396111</td>\n",
       "      <td>1.294206</td>\n",
       "      <td>163.892476</td>\n",
       "      <td>72.919929</td>\n",
       "      <td>125.643656</td>\n",
       "      <td>81.011077</td>\n",
       "      <td>1.270148</td>\n",
       "      <td>1.075944</td>\n",
       "      <td>0.0</td>\n",
       "      <td>0.0</td>\n",
       "      <td>0.799494</td>\n",
       "      <td>0.484838</td>\n",
       "    </tr>\n",
       "    <tr>\n",
       "      <th>std</th>\n",
       "      <td>2470.850752</td>\n",
       "      <td>0.455689</td>\n",
       "      <td>7.566255</td>\n",
       "      <td>13.016990</td>\n",
       "      <td>17.752886</td>\n",
       "      <td>10.207992</td>\n",
       "      <td>0.576480</td>\n",
       "      <td>0.264911</td>\n",
       "      <td>0.0</td>\n",
       "      <td>0.0</td>\n",
       "      <td>0.400383</td>\n",
       "      <td>0.499775</td>\n",
       "    </tr>\n",
       "    <tr>\n",
       "      <th>min</th>\n",
       "      <td>14282.000000</td>\n",
       "      <td>1.000000</td>\n",
       "      <td>140.000000</td>\n",
       "      <td>32.000000</td>\n",
       "      <td>-150.000000</td>\n",
       "      <td>-70.000000</td>\n",
       "      <td>1.000000</td>\n",
       "      <td>1.000000</td>\n",
       "      <td>0.0</td>\n",
       "      <td>0.0</td>\n",
       "      <td>0.000000</td>\n",
       "      <td>0.000000</td>\n",
       "    </tr>\n",
       "    <tr>\n",
       "      <th>25%</th>\n",
       "      <td>17623.000000</td>\n",
       "      <td>1.000000</td>\n",
       "      <td>158.000000</td>\n",
       "      <td>64.000000</td>\n",
       "      <td>120.000000</td>\n",
       "      <td>80.000000</td>\n",
       "      <td>1.000000</td>\n",
       "      <td>1.000000</td>\n",
       "      <td>0.0</td>\n",
       "      <td>0.0</td>\n",
       "      <td>1.000000</td>\n",
       "      <td>0.000000</td>\n",
       "    </tr>\n",
       "    <tr>\n",
       "      <th>50%</th>\n",
       "      <td>19680.000000</td>\n",
       "      <td>1.000000</td>\n",
       "      <td>164.000000</td>\n",
       "      <td>71.000000</td>\n",
       "      <td>120.000000</td>\n",
       "      <td>80.000000</td>\n",
       "      <td>1.000000</td>\n",
       "      <td>1.000000</td>\n",
       "      <td>0.0</td>\n",
       "      <td>0.0</td>\n",
       "      <td>1.000000</td>\n",
       "      <td>0.000000</td>\n",
       "    </tr>\n",
       "    <tr>\n",
       "      <th>75%</th>\n",
       "      <td>21308.000000</td>\n",
       "      <td>2.000000</td>\n",
       "      <td>169.000000</td>\n",
       "      <td>80.000000</td>\n",
       "      <td>140.000000</td>\n",
       "      <td>90.000000</td>\n",
       "      <td>1.000000</td>\n",
       "      <td>1.000000</td>\n",
       "      <td>0.0</td>\n",
       "      <td>0.0</td>\n",
       "      <td>1.000000</td>\n",
       "      <td>1.000000</td>\n",
       "    </tr>\n",
       "    <tr>\n",
       "      <th>max</th>\n",
       "      <td>23713.000000</td>\n",
       "      <td>2.000000</td>\n",
       "      <td>188.000000</td>\n",
       "      <td>117.000000</td>\n",
       "      <td>309.000000</td>\n",
       "      <td>602.000000</td>\n",
       "      <td>3.000000</td>\n",
       "      <td>2.000000</td>\n",
       "      <td>0.0</td>\n",
       "      <td>0.0</td>\n",
       "      <td>1.000000</td>\n",
       "      <td>1.000000</td>\n",
       "    </tr>\n",
       "  </tbody>\n",
       "</table>\n",
       "</div>\n",
       "      <button class=\"colab-df-convert\" onclick=\"convertToInteractive('df-05fef139-0497-4650-a56a-518b4db04608')\"\n",
       "              title=\"Convert this dataframe to an interactive table.\"\n",
       "              style=\"display:none;\">\n",
       "        \n",
       "  <svg xmlns=\"http://www.w3.org/2000/svg\" height=\"24px\"viewBox=\"0 0 24 24\"\n",
       "       width=\"24px\">\n",
       "    <path d=\"M0 0h24v24H0V0z\" fill=\"none\"/>\n",
       "    <path d=\"M18.56 5.44l.94 2.06.94-2.06 2.06-.94-2.06-.94-.94-2.06-.94 2.06-2.06.94zm-11 1L8.5 8.5l.94-2.06 2.06-.94-2.06-.94L8.5 2.5l-.94 2.06-2.06.94zm10 10l.94 2.06.94-2.06 2.06-.94-2.06-.94-.94-2.06-.94 2.06-2.06.94z\"/><path d=\"M17.41 7.96l-1.37-1.37c-.4-.4-.92-.59-1.43-.59-.52 0-1.04.2-1.43.59L10.3 9.45l-7.72 7.72c-.78.78-.78 2.05 0 2.83L4 21.41c.39.39.9.59 1.41.59.51 0 1.02-.2 1.41-.59l7.78-7.78 2.81-2.81c.8-.78.8-2.07 0-2.86zM5.41 20L4 18.59l7.72-7.72 1.47 1.35L5.41 20z\"/>\n",
       "  </svg>\n",
       "      </button>\n",
       "      \n",
       "  <style>\n",
       "    .colab-df-container {\n",
       "      display:flex;\n",
       "      flex-wrap:wrap;\n",
       "      gap: 12px;\n",
       "    }\n",
       "\n",
       "    .colab-df-convert {\n",
       "      background-color: #E8F0FE;\n",
       "      border: none;\n",
       "      border-radius: 50%;\n",
       "      cursor: pointer;\n",
       "      display: none;\n",
       "      fill: #1967D2;\n",
       "      height: 32px;\n",
       "      padding: 0 0 0 0;\n",
       "      width: 32px;\n",
       "    }\n",
       "\n",
       "    .colab-df-convert:hover {\n",
       "      background-color: #E2EBFA;\n",
       "      box-shadow: 0px 1px 2px rgba(60, 64, 67, 0.3), 0px 1px 3px 1px rgba(60, 64, 67, 0.15);\n",
       "      fill: #174EA6;\n",
       "    }\n",
       "\n",
       "    [theme=dark] .colab-df-convert {\n",
       "      background-color: #3B4455;\n",
       "      fill: #D2E3FC;\n",
       "    }\n",
       "\n",
       "    [theme=dark] .colab-df-convert:hover {\n",
       "      background-color: #434B5C;\n",
       "      box-shadow: 0px 1px 3px 1px rgba(0, 0, 0, 0.15);\n",
       "      filter: drop-shadow(0px 1px 2px rgba(0, 0, 0, 0.3));\n",
       "      fill: #FFFFFF;\n",
       "    }\n",
       "  </style>\n",
       "\n",
       "      <script>\n",
       "        const buttonEl =\n",
       "          document.querySelector('#df-05fef139-0497-4650-a56a-518b4db04608 button.colab-df-convert');\n",
       "        buttonEl.style.display =\n",
       "          google.colab.kernel.accessAllowed ? 'block' : 'none';\n",
       "\n",
       "        async function convertToInteractive(key) {\n",
       "          const element = document.querySelector('#df-05fef139-0497-4650-a56a-518b4db04608');\n",
       "          const dataTable =\n",
       "            await google.colab.kernel.invokeFunction('convertToInteractive',\n",
       "                                                     [key], {});\n",
       "          if (!dataTable) return;\n",
       "\n",
       "          const docLinkHtml = 'Like what you see? Visit the ' +\n",
       "            '<a target=\"_blank\" href=https://colab.research.google.com/notebooks/data_table.ipynb>data table notebook</a>'\n",
       "            + ' to learn more about interactive tables.';\n",
       "          element.innerHTML = '';\n",
       "          dataTable['output_type'] = 'display_data';\n",
       "          await google.colab.output.renderOutput(dataTable, element);\n",
       "          const docLink = document.createElement('div');\n",
       "          docLink.innerHTML = docLinkHtml;\n",
       "          element.appendChild(docLink);\n",
       "        }\n",
       "      </script>\n",
       "    </div>\n",
       "  </div>\n",
       "  "
      ],
      "text/plain": [
       "                age        gender        height        weight         ap_hi  \\\n",
       "count  55699.000000  55699.000000  55699.000000  55699.000000  55699.000000   \n",
       "mean   19438.396111      1.294206    163.892476     72.919929    125.643656   \n",
       "std     2470.850752      0.455689      7.566255     13.016990     17.752886   \n",
       "min    14282.000000      1.000000    140.000000     32.000000   -150.000000   \n",
       "25%    17623.000000      1.000000    158.000000     64.000000    120.000000   \n",
       "50%    19680.000000      1.000000    164.000000     71.000000    120.000000   \n",
       "75%    21308.000000      2.000000    169.000000     80.000000    140.000000   \n",
       "max    23713.000000      2.000000    188.000000    117.000000    309.000000   \n",
       "\n",
       "              ap_lo   cholesterol          gluc    smoke     alco  \\\n",
       "count  55699.000000  55699.000000  55699.000000  55699.0  55699.0   \n",
       "mean      81.011077      1.270148      1.075944      0.0      0.0   \n",
       "std       10.207992      0.576480      0.264911      0.0      0.0   \n",
       "min      -70.000000      1.000000      1.000000      0.0      0.0   \n",
       "25%       80.000000      1.000000      1.000000      0.0      0.0   \n",
       "50%       80.000000      1.000000      1.000000      0.0      0.0   \n",
       "75%       90.000000      1.000000      1.000000      0.0      0.0   \n",
       "max      602.000000      3.000000      2.000000      0.0      0.0   \n",
       "\n",
       "             active        cardio  \n",
       "count  55699.000000  55699.000000  \n",
       "mean       0.799494      0.484838  \n",
       "std        0.400383      0.499775  \n",
       "min        0.000000      0.000000  \n",
       "25%        1.000000      0.000000  \n",
       "50%        1.000000      0.000000  \n",
       "75%        1.000000      1.000000  \n",
       "max        1.000000      1.000000  "
      ]
     },
     "execution_count": 45,
     "metadata": {},
     "output_type": "execute_result"
    }
   ],
   "source": [
    "filtered_df.describe()"
   ]
  },
  {
   "cell_type": "markdown",
   "metadata": {
    "id": "32ae582a"
   },
   "source": [
    "#### ii. Correlation / Heatmap\n",
    "\n",
    "Again, generate the heatmap for the filtered data set. "
   ]
  },
  {
   "cell_type": "code",
   "execution_count": null,
   "metadata": {
    "colab": {
     "base_uri": "https://localhost:8080/",
     "height": 532
    },
    "id": "88cdc5a9",
    "outputId": "bf309afd-5eff-41b4-a9fb-ad1a3d80e8e3"
   },
   "outputs": [
    {
     "data": {
      "image/png": "[encoded data removed]",
      "text/plain": [
       "<Figure size 720x576 with 2 Axes>"
      ]
     },
     "metadata": {
      "needs_background": "light"
     },
     "output_type": "display_data"
    }
   ],
   "source": [
    "plt.figure(figsize=(10,8))\n",
    "\n",
    "cor = filtered_df.corr()\n",
    "sns.heatmap(cor, annot=True, cmap=plt.cm.Reds)\n",
    "plt.show()"
   ]
  },
  {
   "cell_type": "markdown",
   "metadata": {
    "id": "ecc6c2d2"
   },
   "source": [
    "#### iii. Data Pre-processing"
   ]
  },
  {
   "cell_type": "code",
   "execution_count": null,
   "metadata": {
    "colab": {
     "base_uri": "https://localhost:8080/"
    },
    "id": "5d1b652e",
    "outputId": "e36d7354-4d99-43d7-c72c-1568e5ed3b26"
   },
   "outputs": [
    {
     "data": {
      "text/plain": [
       "((55699, 11), (55699, 1))"
      ]
     },
     "execution_count": 105,
     "metadata": {},
     "output_type": "execute_result"
    }
   ],
   "source": [
    "X = filtered_df.iloc[:, :-1]\n",
    "y = filtered_df.iloc[:, -1:].values\n",
    "\n",
    "X.shape, y.shape"
   ]
  },
  {
   "cell_type": "code",
   "execution_count": null,
   "metadata": {
    "colab": {
     "base_uri": "https://localhost:8080/"
    },
    "id": "7648568b",
    "outputId": "30be0d52-0de1-454c-e8eb-b39ca6d0ef7d"
   },
   "outputs": [
    {
     "name": "stdout",
     "output_type": "stream",
     "text": [
      "Training set shape: (44559, 11)\n",
      "Validation set shape: (11140, 11)\n"
     ]
    }
   ],
   "source": [
    "X_train, X_val, y_train, y_val = train_test_split(X, y, test_size = 0.2, random_state = 12, stratify = y)\n",
    "\n",
    "print(f'Training set shape: {X_train.shape}')\n",
    "print(f'Validation set shape: {X_val.shape}')"
   ]
  },
  {
   "cell_type": "code",
   "execution_count": null,
   "metadata": {
    "id": "9a87393f"
   },
   "outputs": [],
   "source": [
    "columns = ['age', 'height', 'weight', 'ap_hi', 'ap_lo']         # columns with numerical value type\n",
    "\n",
    "scaler = MinMaxScaler().fit(X_train[columns])\n",
    "X_train[columns] = scaler.transform(X_train[columns])\n",
    "X_val[columns] = scaler.transform(X_val[columns])"
   ]
  },
  {
   "cell_type": "markdown",
   "metadata": {
    "id": "a4b502a5"
   },
   "source": [
    "#### iv. Model Training (Adaboost)\n",
    "\n",
    "The similar procedure goes for the model training on data set without outliers. "
   ]
  },
  {
   "cell_type": "markdown",
   "metadata": {
    "id": "3Q21YiIVEQWD"
   },
   "source": [
    "##### **Step 1: Tuning The Adaboost Classifier**"
   ]
  },
  {
   "cell_type": "code",
   "execution_count": null,
   "metadata": {
    "colab": {
     "base_uri": "https://localhost:8080/",
     "height": 334
    },
    "id": "b4723f53",
    "outputId": "cc194364-1d55-4ad7-8b11-8591a0e07978"
   },
   "outputs": [
    {
     "data": {
      "image/png": "[encoded data removed]",
      "text/plain": [
       "<Figure size 576x360 with 1 Axes>"
      ]
     },
     "metadata": {
      "needs_background": "light"
     },
     "output_type": "display_data"
    }
   ],
   "source": [
    "def tune_adaboost(target_feature_value, **params):\n",
    "    boost_model = AdaBoostClassifier(**params).fit(X_train, y_train)\n",
    "    train_pred = boost_model.predict(X_train)\n",
    "    train_accuracy = accuracy_score(y_train, train_pred)\n",
    "\n",
    "    val_pred = boost_model.predict(X_val)\n",
    "    val_accuracy = accuracy_score(y_val, val_pred)\n",
    "\n",
    "    return target_feature_value, train_accuracy, val_accuracy\n",
    "\n",
    "\n",
    "# Exploring n_estimators\n",
    "trees = np.arange(1,501,50)\n",
    "df = pd.DataFrame([tune_adaboost(target_feature_value = i,\n",
    "                                 base_estimator = None,\n",
    "                                 n_estimators = i,\n",
    "                                 learning_rate = 0.6,\n",
    "                                 random_state = 12) for i in trees], \n",
    "                  columns = ['Maximum Number of Trees', 'Training Accuracy', 'Validation Accuracy'])\n",
    "\n",
    "plot_model('Maximum Number of Trees')"
   ]
  },
  {
   "cell_type": "markdown",
   "metadata": {
    "id": "2dBdpqn_O0c9"
   },
   "source": [
    "As seen above, the optimal n_estimator seems to be around 400."
   ]
  },
  {
   "cell_type": "markdown",
   "metadata": {
    "id": "WZBqiNhQE9f5"
   },
   "source": [
    "##### **Step 2: Pass in The Optimal Parameter Values**"
   ]
  },
  {
   "cell_type": "code",
   "execution_count": null,
   "metadata": {
    "colab": {
     "base_uri": "https://localhost:8080/"
    },
    "id": "0cbdcc9d",
    "outputId": "a7e080c0-89ba-48b7-ff1a-eb2db3172cc0"
   },
   "outputs": [
    {
     "name": "stdout",
     "output_type": "stream",
     "text": [
      "Training Score:0.731704\n",
      "Testing Score:0.728276\n"
     ]
    }
   ],
   "source": [
    "# Creating classifier \n",
    "ada = ensemble.AdaBoostClassifier(base_estimator = None,\n",
    "                                 n_estimators = 400,\n",
    "                                 learning_rate = 0.6, \n",
    "                                 random_state = 12)           \n",
    "#Fitting classifier to training data\n",
    "ada.fit(X_train,y_train)\n",
    "\n",
    "# Making Predictions\n",
    "ada_pred = ada.predict(X_val)\n",
    "\n",
    "print(\"Training Score:%f\"%ada.score(X_train,y_train))\n",
    "print(\"Testing Score:%f\"%ada.score(X_val,y_val))"
   ]
  },
  {
   "cell_type": "code",
   "execution_count": null,
   "metadata": {
    "colab": {
     "base_uri": "https://localhost:8080/"
    },
    "id": "ef91c326",
    "outputId": "fe716366-9fda-4d16-9bce-4252e567a6dd"
   },
   "outputs": [
    {
     "name": "stdout",
     "output_type": "stream",
     "text": [
      "              precision    recall  f1-score   support\n",
      "\n",
      "           0       0.70      0.82      0.76      5739\n",
      "           1       0.77      0.63      0.69      5401\n",
      "\n",
      "    accuracy                           0.73     11140\n",
      "   macro avg       0.73      0.73      0.72     11140\n",
      "weighted avg       0.73      0.73      0.73     11140\n",
      "\n"
     ]
    }
   ],
   "source": [
    "print(classification_report(y_val,ada_pred))"
   ]
  },
  {
   "cell_type": "markdown",
   "metadata": {
    "id": "8bf4a4ad"
   },
   "source": [
    "#### v. Model Training (Random Forest)"
   ]
  },
  {
   "cell_type": "markdown",
   "metadata": {
    "id": "eb0873df"
   },
   "source": [
    "##### **Step 1: Tuning the Random Forest Classifier**"
   ]
  },
  {
   "cell_type": "code",
   "execution_count": null,
   "metadata": {
    "colab": {
     "base_uri": "https://localhost:8080/",
     "height": 334
    },
    "id": "ce02650b",
    "outputId": "c155ffdf-60d1-40d1-cbc8-b2fc98f42d1d"
   },
   "outputs": [
    {
     "data": {
      "image/png": "[encoded data removed]",
      "text/plain": [
       "<Figure size 576x360 with 1 Axes>"
      ]
     },
     "metadata": {
      "needs_background": "light"
     },
     "output_type": "display_data"
    }
   ],
   "source": [
    "def tune_random_forest(target_feature_value, **params):\n",
    "    rf_model = RandomForestClassifier(**params).fit(X_train, y_train)\n",
    "    train_pred = rf_model.predict(X_train)\n",
    "    train_accuracy = accuracy_score(y_train, train_pred)\n",
    "\n",
    "    val_pred = rf_model.predict(X_val)\n",
    "    val_accuracy = accuracy_score(y_val, val_pred)\n",
    "\n",
    "    return target_feature_value, train_accuracy, val_accuracy\n",
    "\n",
    "\n",
    "# Exploring number of samples\n",
    "df = pd.DataFrame([tune_random_forest(target_feature_value = i,\n",
    "                                      criterion = 'gini',\n",
    "                                      max_depth = i,\n",
    "                                      max_features = 'sqrt',\n",
    "                                      max_samples = 0.6,\n",
    "                                      random_state = 12) for i in np.arange(1, 13, 1)], \n",
    "                  columns = ['Maximum Samples', 'Training Accuracy', 'Validation Accuracy'])\n",
    "\n",
    "plot_model('Maximum Samples')"
   ]
  },
  {
   "cell_type": "markdown",
   "metadata": {
    "id": "o9ZTcVSUU32w"
   },
   "source": [
    "As seen above, the optimal max_depth is around 12, which we will use below."
   ]
  },
  {
   "cell_type": "markdown",
   "metadata": {
    "id": "FoFpDNh7EG93"
   },
   "source": [
    "##### **Step 2: Pass in The Optimal Parameter Values**"
   ]
  },
  {
   "cell_type": "code",
   "execution_count": null,
   "metadata": {
    "colab": {
     "base_uri": "https://localhost:8080/"
    },
    "id": "1e55e21e",
    "outputId": "12c04b30-f69d-41bb-feb9-afc422a97b94"
   },
   "outputs": [
    {
     "name": "stdout",
     "output_type": "stream",
     "text": [
      "Traing Score:0.752889\n",
      "Testing Score:0.732675\n"
     ]
    }
   ],
   "source": [
    "# Initializing Classifier \n",
    "rf = ensemble.RandomForestClassifier( criterion = 'gini',\n",
    "                                      max_depth = 10,\n",
    "                                      max_features = 'sqrt',\n",
    "                                      max_samples = 0.6,\n",
    "                                      random_state = 12)\n",
    "# Fitting classifier to training data\n",
    "rf.fit(X_train,y_train)\n",
    "\n",
    "# Making Predictions\n",
    "rf_pred = rf.predict(X_val)\n",
    "\n",
    "print(\"Traing Score:%f\"%rf.score(X_train,y_train))\n",
    "print(\"Testing Score:%f\"%rf.score(X_val,y_val))"
   ]
  },
  {
   "cell_type": "code",
   "execution_count": null,
   "metadata": {
    "colab": {
     "base_uri": "https://localhost:8080/"
    },
    "id": "0065bd08",
    "outputId": "8482e916-9ee0-4f09-afaf-3e6b01adbce1"
   },
   "outputs": [
    {
     "name": "stdout",
     "output_type": "stream",
     "text": [
      "              precision    recall  f1-score   support\n",
      "\n",
      "           0       0.72      0.79      0.75      5739\n",
      "           1       0.75      0.67      0.71      5401\n",
      "\n",
      "    accuracy                           0.73     11140\n",
      "   macro avg       0.74      0.73      0.73     11140\n",
      "weighted avg       0.73      0.73      0.73     11140\n",
      "\n"
     ]
    }
   ],
   "source": [
    "print(classification_report(y_val,rf_pred))"
   ]
  },
  {
   "cell_type": "markdown",
   "metadata": {
    "id": "SSfsBL70VNDh"
   },
   "source": [
    "#### vi. Summary for Adaboost and Random Forest on data without outliers. \n",
    "\n",
    "On the data set without outliers, it seems that random forest still trumps Adaboost, with a testing score of 0.732675 greater than 0.728276 from Adaboost. In this light, outlier is not the only factor that's affecting the model performance, and there are many other factors that are also worth looking into. \n",
    "\n",
    "Generally speaking, regardless of whether or not outliers are included, it seems that random forest tends to perform better than Adaboost in this particular cardiovascular data set. \n"
   ]
  },
  {
   "cell_type": "markdown",
   "metadata": {
    "id": "J8freCjN8irM"
   },
   "source": [
    "## IV. Conclusion"
   ]
  },
  {
   "cell_type": "markdown",
   "metadata": {
    "id": "QQP5sFQtnezG"
   },
   "source": [
    "Congratulations! You made it to the end of this tutorial. Let's again summarize the advantages and disadvantages of Adaboost compared to Random Forest after introducing to you the mathematical background, building models for simulated data, and applying these models on a real-world dataset:\n",
    "\n",
    "<br>\n",
    "\n",
    "- **Advantages**: Adaboost is good at boosting the performances of weak learners such as the default Decision Tree model, combining the results of all the weak learners using weighted values and converting to a strong learner. When the dataset is clean and well organized, Adaboost will tend to perform well. Also, as you may notice, Adaboost requires minimal amount of hypertuning - there are only two important parameters, so you can tune the model fairly quickly. On the other hand, although Random Forest can often yield better accuracy than Adaboost, you do need to tune many parameters in order to get the better results, which can be time consuming. \n",
    "\n",
    "- **Disadvantages**: As we have seen in the simulation part, Adaboost is probably not the best choice when the data has noise and outliers. It is robust to correlated predictors, but Random Forest can often do a better job.  \n",
    "\n",
    "<br>\n",
    "\n",
    "Overall, the choice between AdaBoost and Random Forest will depend on the details of the task you have. The parameters you tune for your model are crucial for the final model accuracy. **It may be helpful to try out both methods and compare their performance to determine which one is a better suit to your needs.** \n",
    "\n",
    "<br>\n",
    "\n",
    "This concludes our tutorial on introducing Adaboost and Random Forest. We hope that you enjoy this tutorial when you can learn the material as well as writing some your own code during the reading and find this tutorial useful. Let us know if you have any feedbacks or questions!"
   ]
  },
  {
   "cell_type": "markdown",
   "metadata": {
    "id": "FVnIUPPZ8mpy"
   },
   "source": [
    "## V. Summary of Contribution"
   ]
  },
  {
   "cell_type": "markdown",
   "metadata": {
    "id": "i4RYM-gnTqBk"
   },
   "source": [
    "- **Henry Cui**: Responsible for Random Forest Simulation\n",
    "\n",
    "<br>\n",
    "\n",
    "- **Derek Fu**: Responsible for Adaboost Simulation, Conclusion, & General Formatting  \n",
    "\n",
    "<br>\n",
    "\n",
    "- **James Li**: Responsible for Mathematical Background\n",
    "\n",
    "<br>\n",
    "\n",
    "- **Vincent Wu**: Responsible for Real-World Application"
   ]
  },
  {
   "cell_type": "markdown",
   "metadata": {
    "id": "sPi01EsffMWU"
   },
   "source": [
    "## VI. References"
   ]
  },
  {
   "cell_type": "markdown",
   "metadata": {
    "id": "sVFIK5H4fOsJ"
   },
   "source": [
    "#### Mathematical Background part"
   ]
  },
  {
   "cell_type": "markdown",
   "metadata": {
    "id": "7DnN45vMfQpH"
   },
   "source": [
    "1. James, G., Witten, D., Hastie, T., &amp; Tibshirani, R. (2021). $\\textit{An introduction to statistical learning: With applications in R}$ (Second). Springer. \n",
    "2. Eric Chi. $\\textit{Introduction to Statistical Machine Learning}$. 2022"
   ]
  },
  {
   "cell_type": "markdown",
   "metadata": {
    "id": "ngPE0TuvfS5J"
   },
   "source": [
    "#### Simulation part"
   ]
  },
  {
   "cell_type": "markdown",
   "metadata": {
    "id": "tXR-dkD8fVgT"
   },
   "source": [
    "3. https://pandas.pydata.org/\n",
    "\n",
    "4. https://numpy.org/\n",
    "\n",
    "5. https://scikit-learn.org/stable/\n",
    "\n",
    "6. https://matplotlib.org/\n",
    "\n",
    "7. https://github.com/python/cpython/blob/3.11/Lib/random.py"
   ]
  },
  {
   "cell_type": "markdown",
   "metadata": {
    "id": "LmGHBG9Cgg0q"
   },
   "source": [
    "#### Data part"
   ]
  },
  {
   "cell_type": "markdown",
   "metadata": {
    "id": "hkguvufKgqGy"
   },
   "source": [
    "8. https://www.kaggle.com/datasets/sulianova/cardiovascular-disease-dataset"
   ]
  }
 ],
 "metadata": {
  "colab": {
   "collapsed_sections": [
    "b6M5uGP-k-8G",
    "gx2M0gM6pXHR",
    "vdgZQB-F5IJ2",
    "KwIFdrJdDxE-",
    "7-dDZr1MHvsN",
    "ToxGrFMsPnP4",
    "hX7H3cyztkig",
    "PrqVj4ibRT9H"
   ],
   "provenance": [],
   "toc_visible": true
  },
  "kernelspec": {
   "display_name": "Python 3",
   "language": "python",
   "name": "python3"
  },
  "language_info": {
   "codemirror_mode": {
    "name": "ipython",
    "version": 3
   },
   "file_extension": ".py",
   "mimetype": "text/x-python",
   "name": "python",
   "nbconvert_exporter": "python",
   "pygments_lexer": "ipython3",
   "version": "3.8.8"
  }
 },
 "nbformat": 4,
 "nbformat_minor": 1
}
